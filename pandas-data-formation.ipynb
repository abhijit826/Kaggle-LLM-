{
 "cells": [
  {
   "cell_type": "code",
   "execution_count": 1,
   "id": "9005db3c",
   "metadata": {
    "_cell_guid": "b1076dfc-b9ad-4769-8c92-a6c4dae69d19",
    "_uuid": "8f2839f25d086af736a60e9eeb907d3b93b6e0e5",
    "execution": {
     "iopub.execute_input": "2025-05-08T19:16:30.128084Z",
     "iopub.status.busy": "2025-05-08T19:16:30.127783Z",
     "iopub.status.idle": "2025-05-08T19:16:34.656681Z",
     "shell.execute_reply": "2025-05-08T19:16:34.655552Z"
    },
    "papermill": {
     "duration": 4.53608,
     "end_time": "2025-05-08T19:16:34.658425",
     "exception": false,
     "start_time": "2025-05-08T19:16:30.122345",
     "status": "completed"
    },
    "tags": []
   },
   "outputs": [
    {
     "name": "stdout",
     "output_type": "stream",
     "text": [
      "Requirement already satisfied: pandas in /usr/local/lib/python3.11/dist-packages (2.2.3)\r\n",
      "Requirement already satisfied: numpy>=1.23.2 in /usr/local/lib/python3.11/dist-packages (from pandas) (1.26.4)\r\n",
      "Requirement already satisfied: python-dateutil>=2.8.2 in /usr/local/lib/python3.11/dist-packages (from pandas) (2.9.0.post0)\r\n",
      "Requirement already satisfied: pytz>=2020.1 in /usr/local/lib/python3.11/dist-packages (from pandas) (2025.2)\r\n",
      "Requirement already satisfied: tzdata>=2022.7 in /usr/local/lib/python3.11/dist-packages (from pandas) (2025.2)\r\n",
      "Requirement already satisfied: mkl_fft in /usr/local/lib/python3.11/dist-packages (from numpy>=1.23.2->pandas) (1.3.8)\r\n",
      "Requirement already satisfied: mkl_random in /usr/local/lib/python3.11/dist-packages (from numpy>=1.23.2->pandas) (1.2.4)\r\n",
      "Requirement already satisfied: mkl_umath in /usr/local/lib/python3.11/dist-packages (from numpy>=1.23.2->pandas) (0.1.1)\r\n",
      "Requirement already satisfied: mkl in /usr/local/lib/python3.11/dist-packages (from numpy>=1.23.2->pandas) (2025.1.0)\r\n",
      "Requirement already satisfied: tbb4py in /usr/local/lib/python3.11/dist-packages (from numpy>=1.23.2->pandas) (2022.1.0)\r\n",
      "Requirement already satisfied: mkl-service in /usr/local/lib/python3.11/dist-packages (from numpy>=1.23.2->pandas) (2.4.1)\r\n",
      "Requirement already satisfied: six>=1.5 in /usr/local/lib/python3.11/dist-packages (from python-dateutil>=2.8.2->pandas) (1.17.0)\r\n",
      "Requirement already satisfied: intel-openmp<2026,>=2024 in /usr/local/lib/python3.11/dist-packages (from mkl->numpy>=1.23.2->pandas) (2024.2.0)\r\n",
      "Requirement already satisfied: tbb==2022.* in /usr/local/lib/python3.11/dist-packages (from mkl->numpy>=1.23.2->pandas) (2022.1.0)\r\n",
      "Requirement already satisfied: tcmlib==1.* in /usr/local/lib/python3.11/dist-packages (from tbb==2022.*->mkl->numpy>=1.23.2->pandas) (1.2.0)\r\n",
      "Requirement already satisfied: intel-cmplr-lib-rt in /usr/local/lib/python3.11/dist-packages (from mkl_umath->numpy>=1.23.2->pandas) (2024.2.0)\r\n",
      "Requirement already satisfied: intel-cmplr-lib-ur==2024.2.0 in /usr/local/lib/python3.11/dist-packages (from intel-openmp<2026,>=2024->mkl->numpy>=1.23.2->pandas) (2024.2.0)\r\n"
     ]
    }
   ],
   "source": [
    "! pip install pandas\n"
   ]
  },
  {
   "cell_type": "code",
   "execution_count": 2,
   "id": "9b46cb06",
   "metadata": {
    "execution": {
     "iopub.execute_input": "2025-05-08T19:16:34.668291Z",
     "iopub.status.busy": "2025-05-08T19:16:34.667630Z",
     "iopub.status.idle": "2025-05-08T19:16:36.435936Z",
     "shell.execute_reply": "2025-05-08T19:16:36.434775Z"
    },
    "papermill": {
     "duration": 1.774827,
     "end_time": "2025-05-08T19:16:36.437554",
     "exception": false,
     "start_time": "2025-05-08T19:16:34.662727",
     "status": "completed"
    },
    "tags": []
   },
   "outputs": [
    {
     "name": "stdout",
     "output_type": "stream",
     "text": [
      "   calories  duration\n",
      "0       420        50\n",
      "1       380        40\n",
      "2       390        45\n"
     ]
    }
   ],
   "source": [
    "import pandas as pd\n",
    "data = {\n",
    "  \"calories\": [420, 380, 390],\n",
    "  \"duration\": [50, 40, 45]\n",
    "}\n",
    "\n",
    "#load data into a DataFrame object:\n",
    "df = pd.DataFrame(data)\n",
    "# df=pd.dataFrame(data)\n",
    "print(df)"
   ]
  },
  {
   "cell_type": "code",
   "execution_count": 3,
   "id": "eeb3493e",
   "metadata": {
    "execution": {
     "iopub.execute_input": "2025-05-08T19:16:36.447029Z",
     "iopub.status.busy": "2025-05-08T19:16:36.446509Z",
     "iopub.status.idle": "2025-05-08T19:16:37.161949Z",
     "shell.execute_reply": "2025-05-08T19:16:37.161013Z"
    },
    "papermill": {
     "duration": 0.721694,
     "end_time": "2025-05-08T19:16:37.163338",
     "exception": false,
     "start_time": "2025-05-08T19:16:36.441644",
     "status": "completed"
    },
    "tags": []
   },
   "outputs": [
    {
     "name": "stdout",
     "output_type": "stream",
     "text": [
      "        Date    Category       Sub-Category   Amount Payment Mode\n",
      "0 2023-01-01     Grocery             Grocery      30         Cash\n",
      "1 2023-01-02        Food          Restaurant     890          UPI\n",
      "2 2023-01-04         123              Zomato     257          NaN\n",
      "3 2023-01-06  Essentials               Diary     120          UPI\n",
      "4 2023-01-06  Essentials             Perfume    1500         Cash\n",
      "5 2023-01-09     Grocery  Fruits and Veggies     456         Cash\n",
      "6 2023-01-10       Bills          House Rent   16000          UPI\n",
      "7 2023-01-10     Grocery      Tomato KetchUp      70          UPI\n",
      "8 2023-01-12        Food                Chai      15          UPI\n",
      "9 2023-01-15  Essentials      Salt and Sugar      50          NaN\n",
      "         Date    Category       Sub-Category   Amount Payment Mode\n",
      "17 2023-01-21     Clothes               Dress    1000          NaN\n",
      "18 2023-01-22     Clothes               Dress    1890          UPI\n",
      "19 2023-01-23     Grocery      Bread and Milk      56         Cash\n",
      "20 2023-01-24        Food  Fruits and Veggies     530         Cash\n",
      "21 2023-01-26        Food                Chai      10          UPI\n",
      "22 2023-01-26     Grocery               Maggi     140          UPI\n",
      "23 2023-01-27        Food              Zomato     300          UPI\n",
      "24 2023-01-27        Food                Chai      10          UPI\n",
      "25 2023-01-28  Essentials           Bedsheets    1025         Cash\n",
      "26 2023-01-29       Bills             Mobile     1650          UPI\n",
      "27 2023-01-29     Grocery                Daal     150         Cash\n",
      "28 2023-01-30       Bills            Cylinder    1074          UPI\n"
     ]
    }
   ],
   "source": [
    "import pandas as pd\n",
    "data=pd.read_excel(\"/kaggle/input/expense/expense3.xlsx\")\n",
    "# print(data) \n",
    "print (data.head(10))\n",
    "print(data.tail(12))"
   ]
  },
  {
   "cell_type": "code",
   "execution_count": 4,
   "id": "7adf460e",
   "metadata": {
    "execution": {
     "iopub.execute_input": "2025-05-08T19:16:37.173451Z",
     "iopub.status.busy": "2025-05-08T19:16:37.172443Z",
     "iopub.status.idle": "2025-05-08T19:16:37.194000Z",
     "shell.execute_reply": "2025-05-08T19:16:37.192735Z"
    },
    "papermill": {
     "duration": 0.028118,
     "end_time": "2025-05-08T19:16:37.195606",
     "exception": false,
     "start_time": "2025-05-08T19:16:37.167488",
     "status": "completed"
    },
    "tags": []
   },
   "outputs": [
    {
     "name": "stdout",
     "output_type": "stream",
     "text": [
      "<class 'pandas.core.frame.DataFrame'>\n",
      "RangeIndex: 29 entries, 0 to 28\n",
      "Data columns (total 5 columns):\n",
      " #   Column         Non-Null Count  Dtype         \n",
      "---  ------         --------------  -----         \n",
      " 0   Date           29 non-null     datetime64[ns]\n",
      " 1   Category       29 non-null     object        \n",
      " 2   Sub-Category   29 non-null     object        \n",
      " 3   Amount         29 non-null     int64         \n",
      " 4   Payment Mode   25 non-null     object        \n",
      "dtypes: datetime64[ns](1), int64(1), object(3)\n",
      "memory usage: 1.3+ KB\n",
      "None\n"
     ]
    }
   ],
   "source": [
    "print(data.info())"
   ]
  },
  {
   "cell_type": "code",
   "execution_count": 5,
   "id": "6ca5c31b",
   "metadata": {
    "execution": {
     "iopub.execute_input": "2025-05-08T19:16:37.205274Z",
     "iopub.status.busy": "2025-05-08T19:16:37.204543Z",
     "iopub.status.idle": "2025-05-08T19:16:37.235279Z",
     "shell.execute_reply": "2025-05-08T19:16:37.234390Z"
    },
    "papermill": {
     "duration": 0.037027,
     "end_time": "2025-05-08T19:16:37.236721",
     "exception": false,
     "start_time": "2025-05-08T19:16:37.199694",
     "status": "completed"
    },
    "tags": []
   },
   "outputs": [
    {
     "data": {
      "text/html": [
       "<div>\n",
       "<style scoped>\n",
       "    .dataframe tbody tr th:only-of-type {\n",
       "        vertical-align: middle;\n",
       "    }\n",
       "\n",
       "    .dataframe tbody tr th {\n",
       "        vertical-align: top;\n",
       "    }\n",
       "\n",
       "    .dataframe thead th {\n",
       "        text-align: right;\n",
       "    }\n",
       "</style>\n",
       "<table border=\"1\" class=\"dataframe\">\n",
       "  <thead>\n",
       "    <tr style=\"text-align: right;\">\n",
       "      <th></th>\n",
       "      <th>Date</th>\n",
       "      <th>Amount</th>\n",
       "    </tr>\n",
       "  </thead>\n",
       "  <tbody>\n",
       "    <tr>\n",
       "      <th>count</th>\n",
       "      <td>29</td>\n",
       "      <td>29.000000</td>\n",
       "    </tr>\n",
       "    <tr>\n",
       "      <th>mean</th>\n",
       "      <td>2023-01-17 19:02:04.137931008</td>\n",
       "      <td>1039.620690</td>\n",
       "    </tr>\n",
       "    <tr>\n",
       "      <th>min</th>\n",
       "      <td>2023-01-01 00:00:00</td>\n",
       "      <td>10.000000</td>\n",
       "    </tr>\n",
       "    <tr>\n",
       "      <th>25%</th>\n",
       "      <td>2023-01-10 00:00:00</td>\n",
       "      <td>70.000000</td>\n",
       "    </tr>\n",
       "    <tr>\n",
       "      <th>50%</th>\n",
       "      <td>2023-01-19 00:00:00</td>\n",
       "      <td>257.000000</td>\n",
       "    </tr>\n",
       "    <tr>\n",
       "      <th>75%</th>\n",
       "      <td>2023-01-26 00:00:00</td>\n",
       "      <td>890.000000</td>\n",
       "    </tr>\n",
       "    <tr>\n",
       "      <th>max</th>\n",
       "      <td>2023-01-30 00:00:00</td>\n",
       "      <td>16000.000000</td>\n",
       "    </tr>\n",
       "    <tr>\n",
       "      <th>std</th>\n",
       "      <td>NaN</td>\n",
       "      <td>2927.684353</td>\n",
       "    </tr>\n",
       "  </tbody>\n",
       "</table>\n",
       "</div>"
      ],
      "text/plain": [
       "                                Date        Amount\n",
       "count                             29     29.000000\n",
       "mean   2023-01-17 19:02:04.137931008   1039.620690\n",
       "min              2023-01-01 00:00:00     10.000000\n",
       "25%              2023-01-10 00:00:00     70.000000\n",
       "50%              2023-01-19 00:00:00    257.000000\n",
       "75%              2023-01-26 00:00:00    890.000000\n",
       "max              2023-01-30 00:00:00  16000.000000\n",
       "std                              NaN   2927.684353"
      ]
     },
     "execution_count": 5,
     "metadata": {},
     "output_type": "execute_result"
    }
   ],
   "source": [
    "data.describe()"
   ]
  },
  {
   "cell_type": "code",
   "execution_count": 6,
   "id": "9f9eb4e4",
   "metadata": {
    "execution": {
     "iopub.execute_input": "2025-05-08T19:16:37.247129Z",
     "iopub.status.busy": "2025-05-08T19:16:37.246419Z",
     "iopub.status.idle": "2025-05-08T19:16:37.253868Z",
     "shell.execute_reply": "2025-05-08T19:16:37.252602Z"
    },
    "papermill": {
     "duration": 0.014073,
     "end_time": "2025-05-08T19:16:37.255310",
     "exception": false,
     "start_time": "2025-05-08T19:16:37.241237",
     "status": "completed"
    },
    "tags": []
   },
   "outputs": [
    {
     "name": "stdout",
     "output_type": "stream",
     "text": [
      "Date             0\n",
      "Category         0\n",
      "Sub-Category     0\n",
      "Amount           0\n",
      "Payment Mode     4\n",
      "dtype: int64\n"
     ]
    }
   ],
   "source": [
    "print(data.isnull().sum())"
   ]
  },
  {
   "cell_type": "code",
   "execution_count": 7,
   "id": "0ed474c9",
   "metadata": {
    "execution": {
     "iopub.execute_input": "2025-05-08T19:16:37.265212Z",
     "iopub.status.busy": "2025-05-08T19:16:37.264853Z",
     "iopub.status.idle": "2025-05-08T19:16:37.276492Z",
     "shell.execute_reply": "2025-05-08T19:16:37.275165Z"
    },
    "papermill": {
     "duration": 0.018496,
     "end_time": "2025-05-08T19:16:37.278052",
     "exception": false,
     "start_time": "2025-05-08T19:16:37.259556",
     "status": "completed"
    },
    "tags": []
   },
   "outputs": [
    {
     "name": "stdout",
     "output_type": "stream",
     "text": [
      "4\n",
      "         Date    Category       Sub-Category   Amount Payment Mode\n",
      "0  2023-01-01     Grocery             Grocery      30         Cash\n",
      "1  2023-01-02        Food          Restaurant     890          UPI\n",
      "2  2023-01-04         123              Zomato     257          NaN\n",
      "3  2023-01-06  Essentials               Diary     120          UPI\n",
      "4  2023-01-06  Essentials             Perfume    1500         Cash\n",
      "5  2023-01-09     Grocery  Fruits and Veggies     456         Cash\n",
      "6  2023-01-10       Bills          House Rent   16000          UPI\n",
      "7  2023-01-10     Grocery      Tomato KetchUp      70          UPI\n",
      "8  2023-01-12        Food                Chai      15          UPI\n",
      "9  2023-01-15  Essentials      Salt and Sugar      50          NaN\n",
      "10 2023-01-17     Grocery           Chocolate     100          UPI\n",
      "11 2023-01-17        Food          Restaurant     780         Card\n",
      "13 2023-01-18        Food              Zomato     230          UPI\n",
      "14 2023-01-19     Grocery                Milk      26          UPI\n",
      "17 2023-01-21     Clothes               Dress    1000          NaN\n",
      "18 2023-01-22     Clothes               Dress    1890          UPI\n",
      "19 2023-01-23     Grocery      Bread and Milk      56         Cash\n",
      "20 2023-01-24        Food  Fruits and Veggies     530         Cash\n",
      "21 2023-01-26        Food                Chai      10          UPI\n",
      "22 2023-01-26     Grocery               Maggi     140          UPI\n",
      "23 2023-01-27        Food              Zomato     300          UPI\n",
      "25 2023-01-28  Essentials           Bedsheets    1025         Cash\n",
      "26 2023-01-29       Bills             Mobile     1650          UPI\n",
      "27 2023-01-29     Grocery                Daal     150         Cash\n",
      "28 2023-01-30       Bills            Cylinder    1074          UPI\n"
     ]
    }
   ],
   "source": [
    "# duplicates values in  dataframe\n",
    "print(data[\"Amount\"].duplicated().sum())\n",
    "print(data.drop_duplicates(\"Amount\"))"
   ]
  },
  {
   "cell_type": "code",
   "execution_count": 8,
   "id": "e4855b60",
   "metadata": {
    "execution": {
     "iopub.execute_input": "2025-05-08T19:16:37.288446Z",
     "iopub.status.busy": "2025-05-08T19:16:37.287719Z",
     "iopub.status.idle": "2025-05-08T19:16:37.297346Z",
     "shell.execute_reply": "2025-05-08T19:16:37.296076Z"
    },
    "papermill": {
     "duration": 0.016284,
     "end_time": "2025-05-08T19:16:37.298711",
     "exception": false,
     "start_time": "2025-05-08T19:16:37.282427",
     "status": "completed"
    },
    "tags": []
   },
   "outputs": [
    {
     "name": "stdout",
     "output_type": "stream",
     "text": [
      "         Date    Category       Sub-Category   Amount Payment Mode\n",
      "0  2023-01-01     Grocery             Grocery      30         Cash\n",
      "1  2023-01-02        Food          Restaurant     890          UPI\n",
      "2  2023-01-04         123              Zomato     257          NaN\n",
      "3  2023-01-06  Essentials               Diary     120          UPI\n",
      "4  2023-01-06  Essentials             Perfume    1500         Cash\n",
      "5  2023-01-09     Grocery  Fruits and Veggies     456         Cash\n",
      "6  2023-01-10       Bills          House Rent   16000          UPI\n",
      "7  2023-01-10     Grocery      Tomato KetchUp      70          UPI\n",
      "8  2023-01-12        Food                Chai      15          UPI\n",
      "9  2023-01-15  Essentials      Salt and Sugar      50          NaN\n",
      "10 2023-01-17     Grocery           Chocolate     100          UPI\n",
      "11 2023-01-17        Food          Restaurant     780         Card\n",
      "12 2023-01-18  Essentials            Food Oil     120          NaN\n",
      "13 2023-01-18        Food              Zomato     230          UPI\n",
      "14 2023-01-19     Grocery                Milk      26          UPI\n",
      "15 2023-01-20  Essentials             Shampoo     780          UPI\n",
      "16 2023-01-20  Essentials           Lunch Box     890         Cash\n",
      "17 2023-01-21     Clothes               Dress    1000          NaN\n",
      "18 2023-01-22     Clothes               Dress    1890          UPI\n",
      "19 2023-01-23     Grocery      Bread and Milk      56         Cash\n",
      "20 2023-01-24        Food  Fruits and Veggies     530         Cash\n",
      "21 2023-01-26        Food                Chai      10          UPI\n",
      "22 2023-01-26     Grocery               Maggi     140          UPI\n",
      "23 2023-01-27        Food              Zomato     300          UPI\n",
      "24 2023-01-27        Food                Chai      10          UPI\n",
      "25 2023-01-28  Essentials           Bedsheets    1025         Cash\n",
      "26 2023-01-29       Bills             Mobile     1650          UPI\n",
      "27 2023-01-29     Grocery                Daal     150         Cash\n",
      "28 2023-01-30       Bills            Cylinder    1074          UPI\n",
      "1039.6206896551723\n"
     ]
    }
   ],
   "source": [
    "print(data)\n",
    "print(data[\"Amount\"].mean())"
   ]
  },
  {
   "cell_type": "code",
   "execution_count": 9,
   "id": "8be324ec",
   "metadata": {
    "execution": {
     "iopub.execute_input": "2025-05-08T19:16:37.309360Z",
     "iopub.status.busy": "2025-05-08T19:16:37.308536Z",
     "iopub.status.idle": "2025-05-08T19:16:40.776413Z",
     "shell.execute_reply": "2025-05-08T19:16:40.775178Z"
    },
    "papermill": {
     "duration": 3.474795,
     "end_time": "2025-05-08T19:16:40.778033",
     "exception": false,
     "start_time": "2025-05-08T19:16:37.303238",
     "status": "completed"
    },
    "tags": []
   },
   "outputs": [
    {
     "name": "stdout",
     "output_type": "stream",
     "text": [
      "Requirement already satisfied: numpy in /usr/local/lib/python3.11/dist-packages (1.26.4)\r\n",
      "Requirement already satisfied: mkl_fft in /usr/local/lib/python3.11/dist-packages (from numpy) (1.3.8)\r\n",
      "Requirement already satisfied: mkl_random in /usr/local/lib/python3.11/dist-packages (from numpy) (1.2.4)\r\n",
      "Requirement already satisfied: mkl_umath in /usr/local/lib/python3.11/dist-packages (from numpy) (0.1.1)\r\n",
      "Requirement already satisfied: mkl in /usr/local/lib/python3.11/dist-packages (from numpy) (2025.1.0)\r\n",
      "Requirement already satisfied: tbb4py in /usr/local/lib/python3.11/dist-packages (from numpy) (2022.1.0)\r\n",
      "Requirement already satisfied: mkl-service in /usr/local/lib/python3.11/dist-packages (from numpy) (2.4.1)\r\n",
      "Requirement already satisfied: intel-openmp<2026,>=2024 in /usr/local/lib/python3.11/dist-packages (from mkl->numpy) (2024.2.0)\r\n",
      "Requirement already satisfied: tbb==2022.* in /usr/local/lib/python3.11/dist-packages (from mkl->numpy) (2022.1.0)\r\n",
      "Requirement already satisfied: tcmlib==1.* in /usr/local/lib/python3.11/dist-packages (from tbb==2022.*->mkl->numpy) (1.2.0)\r\n",
      "Requirement already satisfied: intel-cmplr-lib-rt in /usr/local/lib/python3.11/dist-packages (from mkl_umath->numpy) (2024.2.0)\r\n",
      "Requirement already satisfied: intel-cmplr-lib-ur==2024.2.0 in /usr/local/lib/python3.11/dist-packages (from intel-openmp<2026,>=2024->mkl->numpy) (2024.2.0)\r\n",
      "         Date    Category       Sub-Category   Amount Payment Mode\n",
      "0  2023-01-01     Grocery             Grocery      30         Cash\n",
      "1  2023-01-02        Food          Restaurant     890          UPI\n",
      "2  2023-01-04         123              Zomato     257          NaN\n",
      "3  2023-01-06  Essentials               Diary     120          UPI\n",
      "4  2023-01-06  Essentials             Perfume    1500         Cash\n",
      "5  2023-01-09     Grocery  Fruits and Veggies     456         Cash\n",
      "6  2023-01-10       Bills          House Rent   16000          UPI\n",
      "7  2023-01-10     Grocery      Tomato KetchUp      70          UPI\n",
      "8  2023-01-12        Food                Chai      15          UPI\n",
      "9  2023-01-15  Essentials      Salt and Sugar      50          NaN\n",
      "10 2023-01-17     Grocery           Chocolate     100          UPI\n",
      "11 2023-01-17        Food          Restaurant     780         Card\n",
      "12 2023-01-18  Essentials            Food Oil     120          NaN\n",
      "13 2023-01-18        Food              Zomato     230          UPI\n",
      "14 2023-01-19     Grocery                Milk      26          UPI\n",
      "15 2023-01-20  Essentials             Shampoo     780          UPI\n",
      "16 2023-01-20  Essentials           Lunch Box     890         Cash\n",
      "17 2023-01-21     Clothes               Dress    1000          NaN\n",
      "18 2023-01-22     Clothes               Dress    1890          UPI\n",
      "19 2023-01-23     Grocery      Bread and Milk      56         Cash\n",
      "20 2023-01-24        Food  Fruits and Veggies     530         Cash\n",
      "21 2023-01-26        Food                Chai      10          UPI\n",
      "22 2023-01-26     Grocery               Maggi     140          UPI\n",
      "23 2023-01-27        Food              Zomato     300          UPI\n",
      "24 2023-01-27        Food                Chai      10          UPI\n",
      "25 2023-01-28  Essentials           Bedsheets    1025         Cash\n",
      "26 2023-01-29       Bills             Mobile     1650          UPI\n",
      "27 2023-01-29     Grocery                Daal     150         Cash\n",
      "28 2023-01-30       Bills            Cylinder    1074          UPI\n",
      "1039.6206896551723\n"
     ]
    }
   ],
   "source": [
    "! pip install numpy\n",
    "import numpy as np\n",
    "data[\"Amount\"]= data[\"Amount\"].replace(np.nan,1039.62068965)\n",
    "print(data)\n",
    "print(data[\"Amount\"].mean())"
   ]
  },
  {
   "cell_type": "code",
   "execution_count": 10,
   "id": "4e1bd6ac",
   "metadata": {
    "execution": {
     "iopub.execute_input": "2025-05-08T19:16:40.788845Z",
     "iopub.status.busy": "2025-05-08T19:16:40.788511Z",
     "iopub.status.idle": "2025-05-08T19:16:40.801931Z",
     "shell.execute_reply": "2025-05-08T19:16:40.801018Z"
    },
    "papermill": {
     "duration": 0.020835,
     "end_time": "2025-05-08T19:16:40.803616",
     "exception": false,
     "start_time": "2025-05-08T19:16:40.782781",
     "status": "completed"
    },
    "tags": []
   },
   "outputs": [
    {
     "name": "stdout",
     "output_type": "stream",
     "text": [
      "         Date    Category       Sub-Category   Amount Payment Mode\n",
      "0  2023-01-01     Grocery             Grocery      30         Cash\n",
      "1  2023-01-02        Food          Restaurant     890          UPI\n",
      "2  2023-01-04         123              Zomato     257          UPI\n",
      "3  2023-01-06  Essentials               Diary     120          UPI\n",
      "4  2023-01-06  Essentials             Perfume    1500         Cash\n",
      "5  2023-01-09     Grocery  Fruits and Veggies     456         Cash\n",
      "6  2023-01-10       Bills          House Rent   16000          UPI\n",
      "7  2023-01-10     Grocery      Tomato KetchUp      70          UPI\n",
      "8  2023-01-12        Food                Chai      15          UPI\n",
      "9  2023-01-15  Essentials      Salt and Sugar      50          UPI\n",
      "10 2023-01-17     Grocery           Chocolate     100          UPI\n",
      "11 2023-01-17        Food          Restaurant     780         Card\n",
      "12 2023-01-18  Essentials            Food Oil     120          UPI\n",
      "13 2023-01-18        Food              Zomato     230          UPI\n",
      "14 2023-01-19     Grocery                Milk      26          UPI\n",
      "15 2023-01-20  Essentials             Shampoo     780          UPI\n",
      "16 2023-01-20  Essentials           Lunch Box     890         Cash\n",
      "17 2023-01-21     Clothes               Dress    1000          UPI\n",
      "18 2023-01-22     Clothes               Dress    1890          UPI\n",
      "19 2023-01-23     Grocery      Bread and Milk      56         Cash\n",
      "20 2023-01-24        Food  Fruits and Veggies     530         Cash\n",
      "21 2023-01-26        Food                Chai      10          UPI\n",
      "22 2023-01-26     Grocery               Maggi     140          UPI\n",
      "23 2023-01-27        Food              Zomato     300          UPI\n",
      "24 2023-01-27        Food                Chai      10          UPI\n",
      "25 2023-01-28  Essentials           Bedsheets    1025         Cash\n",
      "26 2023-01-29       Bills             Mobile     1650          UPI\n",
      "27 2023-01-29     Grocery                Daal     150         Cash\n",
      "28 2023-01-30       Bills            Cylinder    1074          UPI\n"
     ]
    },
    {
     "name": "stderr",
     "output_type": "stream",
     "text": [
      "/tmp/ipykernel_13/1272074794.py:1: FutureWarning: DataFrame.fillna with 'method' is deprecated and will raise in a future version. Use obj.ffill() or obj.bfill() instead.\n",
      "  print(data.fillna(method = \"bfill\"))\n"
     ]
    }
   ],
   "source": [
    "print(data.fillna(method = \"bfill\"))\n",
    "# print(data.fillna(method = \"ffill\"))"
   ]
  },
  {
   "cell_type": "code",
   "execution_count": 11,
   "id": "e3f73d3e",
   "metadata": {
    "execution": {
     "iopub.execute_input": "2025-05-08T19:16:40.814114Z",
     "iopub.status.busy": "2025-05-08T19:16:40.813791Z",
     "iopub.status.idle": "2025-05-08T19:16:41.022881Z",
     "shell.execute_reply": "2025-05-08T19:16:41.021577Z"
    },
    "papermill": {
     "duration": 0.216302,
     "end_time": "2025-05-08T19:16:41.024625",
     "exception": false,
     "start_time": "2025-05-08T19:16:40.808323",
     "status": "completed"
    },
    "tags": []
   },
   "outputs": [
    {
     "name": "stdout",
     "output_type": "stream",
     "text": [
      "       EEID        Full Name                 Job Title  Department  \\\n",
      "0    E02387      Emily Davis                Sr. Manger          IT   \n",
      "1    E04105    Theodore Dinh       Technical Architect          IT   \n",
      "2    E02572     Luna Sanders                  Director     Finance   \n",
      "3    E02832  Penelope Jordan  Computer Systems Manager          IT   \n",
      "4    E01639        Austin Vo               Sr. Analyst     Finance   \n",
      "..      ...              ...                       ...         ...   \n",
      "995  E03094     Wesley Young               Sr. Analyst   Marketing   \n",
      "996  E01909     Lillian Khan                   Analyst     Finance   \n",
      "997  E04398      Oliver Yang                  Director   Marketing   \n",
      "998  E02521      Lily Nguyen               Sr. Analyst     Finance   \n",
      "999  E03545      Sofia Cheng            Vice President  Accounting   \n",
      "\n",
      "              Business Unit  Gender  Ethnicity  Age  Hire Date  Annual Salary  \\\n",
      "0    Research & Development  Female      Black   55 2016-04-08         141604   \n",
      "1             Manufacturing    Male      Asian   59 1997-11-29          99975   \n",
      "2       Speciality Products  Female  Caucasian   50 2006-10-26         163099   \n",
      "3             Manufacturing  Female  Caucasian   26 2019-09-27          84913   \n",
      "4             Manufacturing    Male      Asian   55 1995-11-20          95409   \n",
      "..                      ...     ...        ...  ...        ...            ...   \n",
      "995     Speciality Products    Male  Caucasian   33 2016-09-18          98427   \n",
      "996     Speciality Products  Female      Asian   44 2010-05-31          47387   \n",
      "997     Speciality Products    Male      Asian   31 2019-06-10         176710   \n",
      "998     Speciality Products  Female      Asian   33 2012-01-28          95960   \n",
      "999               Corporate  Female      Asian   63 2020-07-26         216195   \n",
      "\n",
      "     Bonus %        Country       City  Exit Date  \n",
      "0       0.15  United States    Seattle 2021-10-16  \n",
      "1       0.00          China  Chongqing        NaT  \n",
      "2       0.20  United States    Chicago        NaT  \n",
      "3       0.07  United States    Chicago        NaT  \n",
      "4       0.00  United States    Phoenix        NaT  \n",
      "..       ...            ...        ...        ...  \n",
      "995     0.00  United States   Columbus        NaT  \n",
      "996     0.00          China    Chengdu 2018-01-08  \n",
      "997     0.15  United States      Miami        NaT  \n",
      "998     0.00          China    Chengdu        NaT  \n",
      "999     0.31  United States      Miami        NaT  \n",
      "\n",
      "[1000 rows x 14 columns]\n",
      "      EEID        Full Name                 Job Title       Department  \\\n",
      "0   E02387      Emily Davis                Sr. Manger               IT   \n",
      "1   E04105    Theodore Dinh       Technical Architect               IT   \n",
      "2   E02572     Luna Sanders                  Director          Finance   \n",
      "3   E02832  Penelope Jordan  Computer Systems Manager               IT   \n",
      "4   E01639        Austin Vo               Sr. Analyst          Finance   \n",
      "5   E00644     Joshua Gupta    Account Representative            Sales   \n",
      "6   E01550      Ruby Barnes                   Manager               IT   \n",
      "7   E04332      Luke Martin                   Analyst          Finance   \n",
      "8   E04533    Easton Bailey                   Manager       Accounting   \n",
      "9   E03838  Madeline Walker               Sr. Analyst          Finance   \n",
      "10  E00591     Savannah Ali                Sr. Manger  Human Resources   \n",
      "11  E03344    Camila Rogers         Controls Engineer      Engineering   \n",
      "12  E00530        Eli Jones                   Manager  Human Resources   \n",
      "13  E04239     Everleigh Ng                Sr. Manger          Finance   \n",
      "14  E03496      Robert Yang               Sr. Analyst       Accounting   \n",
      "\n",
      "             Business Unit  Gender  Ethnicity  Age  Hire Date  Annual Salary  \\\n",
      "0   Research & Development  Female      Black   55 2016-04-08         141604   \n",
      "1            Manufacturing    Male      Asian   59 1997-11-29          99975   \n",
      "2      Speciality Products  Female  Caucasian   50 2006-10-26         163099   \n",
      "3            Manufacturing  Female  Caucasian   26 2019-09-27          84913   \n",
      "4            Manufacturing    Male      Asian   55 1995-11-20          95409   \n",
      "5                Corporate    Male      Asian   57 2017-01-24          50994   \n",
      "6                Corporate  Female  Caucasian   27 2020-07-01         119746   \n",
      "7            Manufacturing    Male      Black   25 2020-05-16          41336   \n",
      "8            Manufacturing    Male  Caucasian   29 2019-01-25         113527   \n",
      "9      Speciality Products  Female  Caucasian   34 2018-06-13          77203   \n",
      "10           Manufacturing  Female      Asian   36 2009-02-11         157333   \n",
      "11     Speciality Products  Female  Caucasian   27 2021-10-21         109851   \n",
      "12           Manufacturing    Male  Caucasian   59 1999-03-14         105086   \n",
      "13  Research & Development  Female      Asian   51 2021-06-10         146742   \n",
      "14     Speciality Products    Male      Asian   31 2017-11-04          97078   \n",
      "\n",
      "    Bonus %        Country       City  Exit Date    TotalBonus  \n",
      "0      0.15  United States    Seattle 2021-10-16  Bonus-Gained  \n",
      "1      0.00          China  Chongqing        NaT      No Bonus  \n",
      "2      0.20  United States    Chicago        NaT  Bonus-Gained  \n",
      "3      0.07  United States    Chicago        NaT  Bonus-Gained  \n",
      "4      0.00  United States    Phoenix        NaT      No Bonus  \n",
      "5      0.00          China  Chongqing        NaT      No Bonus  \n",
      "6      0.10  United States    Phoenix        NaT  Bonus-Gained  \n",
      "7      0.00  United States      Miami 2021-05-20      No Bonus  \n",
      "8      0.06  United States     Austin        NaT  Bonus-Gained  \n",
      "9      0.00  United States    Chicago        NaT      No Bonus  \n",
      "10     0.15  United States      Miami        NaT  Bonus-Gained  \n",
      "11     0.00  United States    Seattle        NaT      No Bonus  \n",
      "12     0.09  United States     Austin        NaT  Bonus-Gained  \n",
      "13     0.10          China   Shanghai        NaT  Bonus-Gained  \n",
      "14     0.00  United States     Austin 2020-03-09      No Bonus  \n"
     ]
    }
   ],
   "source": [
    "import pandas as pd\n",
    "df=pd.read_excel(\"/kaggle/input/esd-file/ESD.xlsx\")\n",
    "print(df)\n",
    "df.loc[(df[\"Bonus %\"]==0),\"TotalBonus\"]=\"No Bonus\"\n",
    "df.loc[(df[\"Bonus %\"]>0),\"TotalBonus\"]=\"Bonus-Gained\"\n",
    "print(df.head(15))"
   ]
  },
  {
   "cell_type": "code",
   "execution_count": 12,
   "id": "ec58c943",
   "metadata": {
    "execution": {
     "iopub.execute_input": "2025-05-08T19:16:41.038722Z",
     "iopub.status.busy": "2025-05-08T19:16:41.038404Z",
     "iopub.status.idle": "2025-05-08T19:16:41.224065Z",
     "shell.execute_reply": "2025-05-08T19:16:41.223054Z"
    },
    "papermill": {
     "duration": 0.194262,
     "end_time": "2025-05-08T19:16:41.225798",
     "exception": false,
     "start_time": "2025-05-08T19:16:41.031536",
     "status": "completed"
    },
    "tags": []
   },
   "outputs": [
    {
     "name": "stdout",
     "output_type": "stream",
     "text": [
      "     EEID        Full Name                 Job Title  Department  \\\n",
      "0  E02387      Emily Davis                Sr. Manger          IT   \n",
      "1  E04105    Theodore Dinh       Technical Architect          IT   \n",
      "2  E02572     Luna Sanders                  Director     Finance   \n",
      "3  E02832  Penelope Jordan  Computer Systems Manager          IT   \n",
      "4  E01639        Austin Vo               Sr. Analyst     Finance   \n",
      "5  E00644     Joshua Gupta    Account Representative       Sales   \n",
      "6  E01550      Ruby Barnes                   Manager          IT   \n",
      "7  E04332      Luke Martin                   Analyst     Finance   \n",
      "8  E04533    Easton Bailey                   Manager  Accounting   \n",
      "9  E03838  Madeline Walker               Sr. Analyst     Finance   \n",
      "\n",
      "            Business Unit  Gender  Ethnicity  Age  Hire Date  Annual Salary  \\\n",
      "0  Research & Development  Female      Black   55 2016-04-08         141604   \n",
      "1           Manufacturing    Male      Asian   59 1997-11-29          99975   \n",
      "2     Speciality Products  Female  Caucasian   50 2006-10-26         163099   \n",
      "3           Manufacturing  Female  Caucasian   26 2019-09-27          84913   \n",
      "4           Manufacturing    Male      Asian   55 1995-11-20          95409   \n",
      "5               Corporate    Male      Asian   57 2017-01-24          50994   \n",
      "6               Corporate  Female  Caucasian   27 2020-07-01         119746   \n",
      "7           Manufacturing    Male      Black   25 2020-05-16          41336   \n",
      "8           Manufacturing    Male  Caucasian   29 2019-01-25         113527   \n",
      "9     Speciality Products  Female  Caucasian   34 2018-06-13          77203   \n",
      "\n",
      "   Bonus %        Country       City  Exit Date  \n",
      "0     0.15  United States    Seattle 2021-10-16  \n",
      "1     0.00          China  Chongqing        NaT  \n",
      "2     0.20  United States    Chicago        NaT  \n",
      "3     0.07  United States    Chicago        NaT  \n",
      "4     0.00  United States    Phoenix        NaT  \n",
      "5     0.00          China  Chongqing        NaT  \n",
      "6     0.10  United States    Phoenix        NaT  \n",
      "7     0.00  United States      Miami 2021-05-20  \n",
      "8     0.06  United States     Austin        NaT  \n",
      "9     0.00  United States    Chicago        NaT  \n",
      "     EEID        Full Name                 Job Title  Department  \\\n",
      "0  E02387      Emily Davis                Sr. Manger          IT   \n",
      "1  E04105    Theodore Dinh       Technical Architect          IT   \n",
      "2  E02572     Luna Sanders                  Director     Finance   \n",
      "3  E02832  Penelope Jordan  Computer Systems Manager          IT   \n",
      "4  E01639        Austin Vo               Sr. Analyst     Finance   \n",
      "5  E00644     Joshua Gupta    Account Representative       Sales   \n",
      "6  E01550      Ruby Barnes                   Manager          IT   \n",
      "7  E04332      Luke Martin                   Analyst     Finance   \n",
      "8  E04533    Easton Bailey                   Manager  Accounting   \n",
      "9  E03838  Madeline Walker               Sr. Analyst     Finance   \n",
      "\n",
      "            Business Unit  Gender  Ethnicity  Age  Hire Date  Annual Salary  \\\n",
      "0  Research & Development  Female      Black   55 2016-04-08         141604   \n",
      "1           Manufacturing    Male      Asian   59 1997-11-29          99975   \n",
      "2     Speciality Products  Female  Caucasian   50 2006-10-26         163099   \n",
      "3           Manufacturing  Female  Caucasian   26 2019-09-27          84913   \n",
      "4           Manufacturing    Male      Asian   55 1995-11-20          95409   \n",
      "5               Corporate    Male      Asian   57 2017-01-24          50994   \n",
      "6               Corporate  Female  Caucasian   27 2020-07-01         119746   \n",
      "7           Manufacturing    Male      Black   25 2020-05-16          41336   \n",
      "8           Manufacturing    Male  Caucasian   29 2019-01-25         113527   \n",
      "9     Speciality Products  Female  Caucasian   34 2018-06-13          77203   \n",
      "\n",
      "   Bonus %        Country       City  Exit Date  \\\n",
      "0     0.15  United States    Seattle 2021-10-16   \n",
      "1     0.00          China  Chongqing        NaT   \n",
      "2     0.20  United States    Chicago        NaT   \n",
      "3     0.07  United States    Chicago        NaT   \n",
      "4     0.00  United States    Phoenix        NaT   \n",
      "5     0.00          China  Chongqing        NaT   \n",
      "6     0.10  United States    Phoenix        NaT   \n",
      "7     0.00  United States      Miami 2021-05-20   \n",
      "8     0.06  United States     Austin        NaT   \n",
      "9     0.00  United States    Chicago        NaT   \n",
      "\n",
      "      Full characater of name and job title  \n",
      "0                    Emily davis Sr. manger  \n",
      "1         Theodore dinh Technical architect  \n",
      "2                     Luna sanders Director  \n",
      "3  Penelope jordan Computer systems manager  \n",
      "4                     Austin vo Sr. analyst  \n",
      "5       Joshua gupta Account representative  \n",
      "6                       Ruby barnes Manager  \n",
      "7                       Luke martin Analyst  \n",
      "8                     Easton bailey Manager  \n",
      "9               Madeline walker Sr. analyst  \n"
     ]
    }
   ],
   "source": [
    "data=pd.read_excel(\"/kaggle/input/esd-file/ESD.xlsx\")\n",
    "print(data.head(10))\n",
    "data[\"Full characater of name and job title\"]=data[\"Full Name\"].str.capitalize()+\" \"+data[\"Job Title\"].str.capitalize()\n",
    "print(data.head(10))"
   ]
  },
  {
   "cell_type": "code",
   "execution_count": 13,
   "id": "2a108986",
   "metadata": {
    "execution": {
     "iopub.execute_input": "2025-05-08T19:16:41.237273Z",
     "iopub.status.busy": "2025-05-08T19:16:41.236966Z",
     "iopub.status.idle": "2025-05-08T19:16:41.245931Z",
     "shell.execute_reply": "2025-05-08T19:16:41.244928Z"
    },
    "papermill": {
     "duration": 0.016438,
     "end_time": "2025-05-08T19:16:41.247369",
     "exception": false,
     "start_time": "2025-05-08T19:16:41.230931",
     "status": "completed"
    },
    "tags": []
   },
   "outputs": [
    {
     "name": "stdout",
     "output_type": "stream",
     "text": [
      "  Months\n",
      "0  chiku\n",
      "1    dad\n",
      "2    aka\n",
      "3   daru\n",
      "  Months short_months\n",
      "0  chiku           ch\n",
      "1    dad           da\n",
      "2    aka           ak\n",
      "3   daru           da\n"
     ]
    }
   ],
   "source": [
    "data = {\"Months\":[\"chiku\",\"dad\",\"aka\",\"daru\"]}\n",
    "# print(data)\n",
    "import pandas as pd\n",
    "a=pd.DataFrame(data)\n",
    "print(a)\n",
    "\n",
    "def extract(value):\n",
    "     return value[0:2]\n",
    "\n",
    "a[\"short_months\"]= a[\"Months\"].map(extract)\n",
    "\n",
    "print(a)\n",
    "    "
   ]
  },
  {
   "cell_type": "code",
   "execution_count": 14,
   "id": "2c08dc30",
   "metadata": {
    "execution": {
     "iopub.execute_input": "2025-05-08T19:16:41.259204Z",
     "iopub.status.busy": "2025-05-08T19:16:41.258555Z",
     "iopub.status.idle": "2025-05-08T19:16:41.438503Z",
     "shell.execute_reply": "2025-05-08T19:16:41.437436Z"
    },
    "papermill": {
     "duration": 0.187434,
     "end_time": "2025-05-08T19:16:41.439981",
     "exception": false,
     "start_time": "2025-05-08T19:16:41.252547",
     "status": "completed"
    },
    "tags": []
   },
   "outputs": [
    {
     "name": "stdout",
     "output_type": "stream",
     "text": [
      "       EEID        Full Name                 Job Title  Department  \\\n",
      "0    E02387      Emily Davis                Sr. Manger          IT   \n",
      "1    E04105    Theodore Dinh       Technical Architect          IT   \n",
      "2    E02572     Luna Sanders                  Director     Finance   \n",
      "3    E02832  Penelope Jordan  Computer Systems Manager          IT   \n",
      "4    E01639        Austin Vo               Sr. Analyst     Finance   \n",
      "..      ...              ...                       ...         ...   \n",
      "995  E03094     Wesley Young               Sr. Analyst   Marketing   \n",
      "996  E01909     Lillian Khan                   Analyst     Finance   \n",
      "997  E04398      Oliver Yang                  Director   Marketing   \n",
      "998  E02521      Lily Nguyen               Sr. Analyst     Finance   \n",
      "999  E03545      Sofia Cheng            Vice President  Accounting   \n",
      "\n",
      "              Business Unit  Gender  Ethnicity  Age  Hire Date  Annual Salary  \\\n",
      "0    Research & Development  Female      Black   55 2016-04-08         141604   \n",
      "1             Manufacturing    Male      Asian   59 1997-11-29          99975   \n",
      "2       Speciality Products  Female  Caucasian   50 2006-10-26         163099   \n",
      "3             Manufacturing  Female  Caucasian   26 2019-09-27          84913   \n",
      "4             Manufacturing    Male      Asian   55 1995-11-20          95409   \n",
      "..                      ...     ...        ...  ...        ...            ...   \n",
      "995     Speciality Products    Male  Caucasian   33 2016-09-18          98427   \n",
      "996     Speciality Products  Female      Asian   44 2010-05-31          47387   \n",
      "997     Speciality Products    Male      Asian   31 2019-06-10         176710   \n",
      "998     Speciality Products  Female      Asian   33 2012-01-28          95960   \n",
      "999               Corporate  Female      Asian   63 2020-07-26         216195   \n",
      "\n",
      "     Bonus %        Country       City  Exit Date  \n",
      "0       0.15  United States    Seattle 2021-10-16  \n",
      "1       0.00          China  Chongqing        NaT  \n",
      "2       0.20  United States    Chicago        NaT  \n",
      "3       0.07  United States    Chicago        NaT  \n",
      "4       0.00  United States    Phoenix        NaT  \n",
      "..       ...            ...        ...        ...  \n",
      "995     0.00  United States   Columbus        NaT  \n",
      "996     0.00          China    Chengdu 2018-01-08  \n",
      "997     0.15  United States      Miami        NaT  \n",
      "998     0.00          China    Chengdu        NaT  \n",
      "999     0.31  United States      Miami        NaT  \n",
      "\n",
      "[1000 rows x 14 columns]\n"
     ]
    }
   ],
   "source": [
    "import pandas as pd\n",
    "data=pd.read_excel(\"/kaggle/input/esd-file/ESD.xlsx\")\n",
    "print(data)"
   ]
  },
  {
   "cell_type": "code",
   "execution_count": 15,
   "id": "72b61584",
   "metadata": {
    "execution": {
     "iopub.execute_input": "2025-05-08T19:16:41.452275Z",
     "iopub.status.busy": "2025-05-08T19:16:41.451676Z",
     "iopub.status.idle": "2025-05-08T19:16:41.469716Z",
     "shell.execute_reply": "2025-05-08T19:16:41.468780Z"
    },
    "papermill": {
     "duration": 0.025759,
     "end_time": "2025-05-08T19:16:41.471220",
     "exception": false,
     "start_time": "2025-05-08T19:16:41.445461",
     "status": "completed"
    },
    "tags": []
   },
   "outputs": [
    {
     "name": "stdout",
     "output_type": "stream",
     "text": [
      "                        EEID\n",
      "Department      Gender      \n",
      "Accounting      Female    53\n",
      "                Male      43\n",
      "Engineering     Female    80\n",
      "                Male      78\n",
      "Finance         Female    69\n",
      "                Male      51\n",
      "Human Resources Female    64\n",
      "                Male      61\n",
      "IT              Female   119\n",
      "                Male     122\n",
      "Marketing       Female    57\n",
      "                Male      63\n",
      "Sales           Female    76\n",
      "                Male      64\n",
      "                                      Annual Salary  Gender\n",
      "Country       Department      Gender                       \n",
      "Brazil        Accounting      Female  112103.000000       7\n",
      "                              Male     77725.000000       3\n",
      "              Engineering     Female  114736.941176      17\n",
      "                              Male    128101.000000      15\n",
      "              Finance         Female  116554.444444       9\n",
      "                              Male    118292.666667       9\n",
      "              Human Resources Female  118766.727273      11\n",
      "                              Male    112070.125000       8\n",
      "              IT              Female   84593.916667      12\n",
      "                              Male    105824.785714      14\n",
      "              Marketing       Female  154719.833333       6\n",
      "                              Male    104484.714286       7\n",
      "              Sales           Female  101281.615385      13\n",
      "                              Male    116693.375000       8\n",
      "China         Accounting      Female  116107.900000      10\n",
      "                              Male    101966.600000      10\n",
      "              Engineering     Female  109219.294118      17\n",
      "                              Male    104853.166667      12\n",
      "              Finance         Female  138952.157895      19\n",
      "                              Male    103831.000000       9\n",
      "              Human Resources Female  128257.416667      12\n",
      "                              Male    118854.153846      13\n",
      "              IT              Female   98742.863636      22\n",
      "                              Male    101561.464286      28\n",
      "              Marketing       Female  117998.357143      14\n",
      "                              Male    140618.000000      21\n",
      "              Sales           Female   92955.200000      15\n",
      "                              Male    115231.812500      16\n",
      "United States Accounting      Female  138009.111111      36\n",
      "                              Male    121837.933333      30\n",
      "              Engineering     Female   99356.521739      46\n",
      "                              Male    111179.490196      51\n",
      "              Finance         Female  115499.000000      41\n",
      "                              Male    130687.696970      33\n",
      "              Human Resources Female  118239.097561      41\n",
      "                              Male    115557.850000      40\n",
      "              IT              Female   95965.929412      85\n",
      "                              Male     98720.712500      80\n",
      "              Marketing       Female  123394.675676      37\n",
      "                              Male    135122.685714      35\n",
      "              Sales           Female  115992.354167      48\n",
      "                              Male    112277.550000      40\n"
     ]
    }
   ],
   "source": [
    "ap=data.groupby([\"Department\",\"Gender\"]).agg({\"EEID\":\"count\"})\n",
    "print(ap)\n",
    "grp1=data.groupby([\"Country\",\"Department\",\"Gender\"]).agg({\"Annual Salary\":\"mean\",\"Gender\":\"count\"})\n",
    "print(grp1)"
   ]
  },
  {
   "cell_type": "code",
   "execution_count": 16,
   "id": "fe449fe7",
   "metadata": {
    "execution": {
     "iopub.execute_input": "2025-05-08T19:16:41.482993Z",
     "iopub.status.busy": "2025-05-08T19:16:41.482718Z",
     "iopub.status.idle": "2025-05-08T19:16:41.492658Z",
     "shell.execute_reply": "2025-05-08T19:16:41.491549Z"
    },
    "papermill": {
     "duration": 0.017782,
     "end_time": "2025-05-08T19:16:41.494366",
     "exception": false,
     "start_time": "2025-05-08T19:16:41.476584",
     "status": "completed"
    },
    "tags": []
   },
   "outputs": [
    {
     "name": "stdout",
     "output_type": "stream",
     "text": [
      "   Emp ID   Name  Age\n",
      "0     101   John   28\n",
      "1     102   Anna   24\n",
      "2     103  Peter   35\n",
      "3     104  Linda   32\n",
      "   Emp ID    Name Salary\n",
      "0     101    Jods   5222\n",
      "1     102     Ads   6564\n",
      "2      45  Pe986r    564\n",
      "3     104   Ldf52    668\n"
     ]
    }
   ],
   "source": [
    "import pandas as pd \n",
    "data1= {\n",
    "    'Emp ID': [101, 102, 103, 104],\n",
    "    'Name': ['John', 'Anna', 'Peter', 'Linda'],\n",
    "    'Age': [28, 24, 35, 32]\n",
    "}\n",
    "data2= {\n",
    "    'Emp ID': [101, 102,  45,104],\n",
    "    'Name': ['Jods', 'Ads', 'Pe986r', 'Ldf52'],\n",
    "    'Salary':['5222','6564','564','668']\n",
    "}\n",
    "\n",
    "pf1=pd.DataFrame(data1)\n",
    "pf2=pd.DataFrame(data2)\n",
    "\n",
    "print(pf1)\n",
    "# print()\n",
    "print(pf2)"
   ]
  },
  {
   "cell_type": "code",
   "execution_count": 17,
   "id": "76d4d331",
   "metadata": {
    "execution": {
     "iopub.execute_input": "2025-05-08T19:16:41.506916Z",
     "iopub.status.busy": "2025-05-08T19:16:41.506642Z",
     "iopub.status.idle": "2025-05-08T19:16:41.534254Z",
     "shell.execute_reply": "2025-05-08T19:16:41.532833Z"
    },
    "papermill": {
     "duration": 0.035842,
     "end_time": "2025-05-08T19:16:41.535757",
     "exception": false,
     "start_time": "2025-05-08T19:16:41.499915",
     "status": "completed"
    },
    "tags": []
   },
   "outputs": [
    {
     "name": "stdout",
     "output_type": "stream",
     "text": [
      "   Emp ID Name_x  Age Name_y Salary\n",
      "0     101   John   28   Jods   5222\n",
      "1     102   Anna   24    Ads   6564\n",
      "2     104  Linda   32  Ldf52    668\n",
      "\n",
      "\n",
      "\n",
      "   Emp ID Name_x   Age  Name_y Salary\n",
      "0     101   John  28.0    Jods   5222\n",
      "1     102   Anna  24.0     Ads   6564\n",
      "2      45    NaN   NaN  Pe986r    564\n",
      "3     104  Linda  32.0   Ldf52    668\n",
      "\n",
      "\n",
      "\n",
      "   Emp ID Name_x  Age Name_y Salary\n",
      "0     101   John   28   Jods   5222\n",
      "1     102   Anna   24    Ads   6564\n",
      "2     103  Peter   35    NaN    NaN\n",
      "3     104  Linda   32  Ldf52    668\n",
      "\n",
      "\n",
      "\n",
      "   Emp ID    Name   Age Salary\n",
      "0     101    John  28.0    NaN\n",
      "1     102    Anna  24.0    NaN\n",
      "2     103   Peter  35.0    NaN\n",
      "3     104   Linda  32.0    NaN\n",
      "0     101    Jods   NaN   5222\n",
      "1     102     Ads   NaN   6564\n",
      "2      45  Pe986r   NaN    564\n",
      "3     104   Ldf52   NaN    668\n"
     ]
    },
    {
     "name": "stderr",
     "output_type": "stream",
     "text": [
      "/usr/local/lib/python3.11/dist-packages/pandas/io/formats/format.py:1458: RuntimeWarning: invalid value encountered in greater\n",
      "  has_large_values = (abs_vals > 1e6).any()\n",
      "/usr/local/lib/python3.11/dist-packages/pandas/io/formats/format.py:1459: RuntimeWarning: invalid value encountered in less\n",
      "  has_small_values = ((abs_vals < 10 ** (-self.digits)) & (abs_vals > 0)).any()\n",
      "/usr/local/lib/python3.11/dist-packages/pandas/io/formats/format.py:1459: RuntimeWarning: invalid value encountered in greater\n",
      "  has_small_values = ((abs_vals < 10 ** (-self.digits)) & (abs_vals > 0)).any()\n",
      "/usr/local/lib/python3.11/dist-packages/pandas/io/formats/format.py:1458: RuntimeWarning: invalid value encountered in greater\n",
      "  has_large_values = (abs_vals > 1e6).any()\n",
      "/usr/local/lib/python3.11/dist-packages/pandas/io/formats/format.py:1459: RuntimeWarning: invalid value encountered in less\n",
      "  has_small_values = ((abs_vals < 10 ** (-self.digits)) & (abs_vals > 0)).any()\n",
      "/usr/local/lib/python3.11/dist-packages/pandas/io/formats/format.py:1459: RuntimeWarning: invalid value encountered in greater\n",
      "  has_small_values = ((abs_vals < 10 ** (-self.digits)) & (abs_vals > 0)).any()\n"
     ]
    }
   ],
   "source": [
    "print(pd.merge(pf1,pf2,on = \"Emp ID\"))\n",
    "print()\n",
    "print()\n",
    "print()\n",
    "\n",
    "print(pd.merge(left=pf1,right=pf2,on = \"Emp ID\",how=\"right\"))\n",
    "print()\n",
    "print()\n",
    "print()\n",
    "\n",
    "print(pd.merge(left=pf1,right=pf2,on = \"Emp ID\",how=\"left\"))\n",
    "print()\n",
    "print()\n",
    "print()\n",
    "\n",
    "\n",
    "print(pd.concat([pf1,pf2]))\n"
   ]
  },
  {
   "cell_type": "code",
   "execution_count": 18,
   "id": "4108e7e7",
   "metadata": {
    "execution": {
     "iopub.execute_input": "2025-05-08T19:16:41.548385Z",
     "iopub.status.busy": "2025-05-08T19:16:41.547684Z",
     "iopub.status.idle": "2025-05-08T19:16:41.596474Z",
     "shell.execute_reply": "2025-05-08T19:16:41.594931Z"
    },
    "papermill": {
     "duration": 0.056838,
     "end_time": "2025-05-08T19:16:41.598115",
     "exception": false,
     "start_time": "2025-05-08T19:16:41.541277",
     "status": "completed"
    },
    "tags": []
   },
   "outputs": [
    {
     "name": "stdout",
     "output_type": "stream",
     "text": [
      "    Fruit  Quantity  Price\n",
      "0   Apple        10     50\n",
      "1  Banana        20     20\n",
      "2   Mango        15     80\n",
      "3  Orange        12     40\n",
      "4  Grapes        25     60\n",
      "\n",
      "\n",
      "    Fruit  Quantity  Price\n",
      "0   Apple        10     50\n",
      "1  Banana        20     20\n",
      "2   Mango        15     80\n",
      "3  Orange        12     40\n",
      "4  Grapes        25     60\n",
      "\n",
      "\n",
      "    Fruit  Quantity  Price\n",
      "0   Apple        10     50\n",
      "1  Banana        20     20\n",
      "2   Mango        45     80\n",
      "3  Orange        12    684\n",
      "4  Grapes        25     60\n",
      "         Quantity  Price\n",
      "2 self       15.0    NaN\n",
      "  other      45.0    NaN\n",
      "3 self        NaN   40.0\n",
      "  other       NaN  684.0\n",
      "         Quantity  Price\n",
      "2 self         15     80\n",
      "  other        45     80\n",
      "3 self         12     40\n",
      "  other        12    684\n",
      "         Quantity  Price\n",
      "2 self       15.0    NaN\n",
      "  other      45.0    NaN\n",
      "3 self        NaN   40.0\n",
      "  other       NaN  684.0\n",
      "        Fruit  Quantity  Price\n",
      "0 self    NaN       NaN    NaN\n",
      "  other   NaN       NaN    NaN\n",
      "1 self    NaN       NaN    NaN\n",
      "  other   NaN       NaN    NaN\n",
      "2 self    NaN      15.0    NaN\n",
      "  other   NaN      45.0    NaN\n",
      "3 self    NaN       NaN   40.0\n",
      "  other   NaN       NaN  684.0\n",
      "4 self    NaN       NaN    NaN\n",
      "  other   NaN       NaN    NaN\n",
      "         Quantity  Price\n",
      "2 self       15.0    NaN\n",
      "  other      45.0    NaN\n",
      "3 self        NaN   40.0\n",
      "  other       NaN  684.0\n"
     ]
    },
    {
     "name": "stderr",
     "output_type": "stream",
     "text": [
      "/usr/local/lib/python3.11/dist-packages/pandas/io/formats/format.py:1458: RuntimeWarning: invalid value encountered in greater\n",
      "  has_large_values = (abs_vals > 1e6).any()\n",
      "/usr/local/lib/python3.11/dist-packages/pandas/io/formats/format.py:1459: RuntimeWarning: invalid value encountered in less\n",
      "  has_small_values = ((abs_vals < 10 ** (-self.digits)) & (abs_vals > 0)).any()\n",
      "/usr/local/lib/python3.11/dist-packages/pandas/io/formats/format.py:1459: RuntimeWarning: invalid value encountered in greater\n",
      "  has_small_values = ((abs_vals < 10 ** (-self.digits)) & (abs_vals > 0)).any()\n",
      "/usr/local/lib/python3.11/dist-packages/pandas/io/formats/format.py:1458: RuntimeWarning: invalid value encountered in greater\n",
      "  has_large_values = (abs_vals > 1e6).any()\n",
      "/usr/local/lib/python3.11/dist-packages/pandas/io/formats/format.py:1459: RuntimeWarning: invalid value encountered in less\n",
      "  has_small_values = ((abs_vals < 10 ** (-self.digits)) & (abs_vals > 0)).any()\n",
      "/usr/local/lib/python3.11/dist-packages/pandas/io/formats/format.py:1459: RuntimeWarning: invalid value encountered in greater\n",
      "  has_small_values = ((abs_vals < 10 ** (-self.digits)) & (abs_vals > 0)).any()\n",
      "/usr/local/lib/python3.11/dist-packages/pandas/io/formats/format.py:1458: RuntimeWarning: invalid value encountered in greater\n",
      "  has_large_values = (abs_vals > 1e6).any()\n",
      "/usr/local/lib/python3.11/dist-packages/pandas/io/formats/format.py:1459: RuntimeWarning: invalid value encountered in less\n",
      "  has_small_values = ((abs_vals < 10 ** (-self.digits)) & (abs_vals > 0)).any()\n",
      "/usr/local/lib/python3.11/dist-packages/pandas/io/formats/format.py:1459: RuntimeWarning: invalid value encountered in greater\n",
      "  has_small_values = ((abs_vals < 10 ** (-self.digits)) & (abs_vals > 0)).any()\n",
      "/usr/local/lib/python3.11/dist-packages/pandas/io/formats/format.py:1458: RuntimeWarning: invalid value encountered in greater\n",
      "  has_large_values = (abs_vals > 1e6).any()\n",
      "/usr/local/lib/python3.11/dist-packages/pandas/io/formats/format.py:1459: RuntimeWarning: invalid value encountered in less\n",
      "  has_small_values = ((abs_vals < 10 ** (-self.digits)) & (abs_vals > 0)).any()\n",
      "/usr/local/lib/python3.11/dist-packages/pandas/io/formats/format.py:1459: RuntimeWarning: invalid value encountered in greater\n",
      "  has_small_values = ((abs_vals < 10 ** (-self.digits)) & (abs_vals > 0)).any()\n"
     ]
    }
   ],
   "source": [
    "import pandas as pd\n",
    "data = {\n",
    "    'Fruit': ['Apple', 'Banana', 'Mango', 'Orange', 'Grapes'],\n",
    "    'Quantity': [10, 20, 15, 12, 25],\n",
    "    'Price': [50, 20, 80, 40, 60]\n",
    "}\n",
    "\n",
    "df=pd.DataFrame(data)\n",
    "print(df)\n",
    "print()\n",
    "print()\n",
    "df2=df.copy()\n",
    "print(df2)\n",
    "print()\n",
    "print()\n",
    "df2.loc[2,\"Quantity\"]= 45\n",
    "df2.loc[3,\"Price\"]=684\n",
    "print(df2)\n",
    "\n",
    "print(df.compare(df2,align_axis=0))\n",
    "print(df.compare(df2,align_axis=0,keep_equal=True))\n",
    "print(df.compare(df2,align_axis=0,keep_equal=False))\n",
    "print(df.compare(df2,align_axis=0,keep_shape=True))\n",
    "print(df.compare(df2,align_axis=0,keep_shape=False))"
   ]
  },
  {
   "cell_type": "code",
   "execution_count": 19,
   "id": "6e47053a",
   "metadata": {
    "execution": {
     "iopub.execute_input": "2025-05-08T19:16:41.610465Z",
     "iopub.status.busy": "2025-05-08T19:16:41.610186Z",
     "iopub.status.idle": "2025-05-08T19:16:41.639586Z",
     "shell.execute_reply": "2025-05-08T19:16:41.638579Z"
    },
    "papermill": {
     "duration": 0.037454,
     "end_time": "2025-05-08T19:16:41.641205",
     "exception": false,
     "start_time": "2025-05-08T19:16:41.603751",
     "status": "completed"
    },
    "tags": []
   },
   "outputs": [
    {
     "name": "stdout",
     "output_type": "stream",
     "text": [
      "  Key   Name   Color  Grades\n",
      "0  k1   John     Red      85\n",
      "1  k2   Anna    Blue      90\n",
      "2  k3  Peter   Green      78\n",
      "3  K4  Linda  Yellow      92\n",
      "     Color                     Grades                 \n",
      "Name  Anna John   Linda  Peter   Anna John Linda Peter\n",
      "Key                                                   \n",
      "K4     NaN  NaN  Yellow    NaN    NaN  NaN    92   NaN\n",
      "k1     NaN  Red     NaN    NaN    NaN   85   NaN   NaN\n",
      "k2    Blue  NaN     NaN    NaN     90  NaN   NaN   NaN\n",
      "k3     NaN  NaN     NaN  Green    NaN  NaN   NaN    78\n",
      "   Key Color&Grades valueskj\n",
      "0   k1        Color      Red\n",
      "1   k2        Color     Blue\n",
      "2   k3        Color    Green\n",
      "3   K4        Color   Yellow\n",
      "4   k1       Grades       85\n",
      "5   k2       Grades       90\n",
      "6   k3       Grades       78\n",
      "7   K4       Grades       92\n",
      "8   k1         Name     John\n",
      "9   k2         Name     Anna\n",
      "10  k3         Name    Peter\n",
      "11  K4         Name    Linda\n"
     ]
    }
   ],
   "source": [
    "import pandas as pd\n",
    "data = {\n",
    "    'Key':['k1','k2','k3','K4'],\n",
    "    'Name': ['John', 'Anna', 'Peter', 'Linda'],\n",
    "    'Color': ['Red', 'Blue', 'Green', 'Yellow'],\n",
    "    'Grades': [85, 90, 78, 92]\n",
    "}\n",
    "df=pd.DataFrame(data) \n",
    "\n",
    "\n",
    "\n",
    "\n",
    "print(df)\n",
    "print(df.pivot(index=\"Key\", columns=\"Name\", values=[\"Color\",\"Grades\"]))\n",
    "# print(df.pivot(index=\"Key\", columns=\"Name\", values=\"Grades\"))\n",
    "print(pd.melt(df,id_vars=[\"Key\"],value_vars=[\"Color\",\"Grades\",\"Name\"],var_name=\"Color&Grades\",value_name=\"valueskj\"))\n"
   ]
  },
  {
   "cell_type": "code",
   "execution_count": null,
   "id": "3608c42e",
   "metadata": {
    "papermill": {
     "duration": 0.005701,
     "end_time": "2025-05-08T19:16:41.652936",
     "exception": false,
     "start_time": "2025-05-08T19:16:41.647235",
     "status": "completed"
    },
    "tags": []
   },
   "outputs": [],
   "source": []
  }
 ],
 "metadata": {
  "kaggle": {
   "accelerator": "none",
   "dataSources": [
    {
     "datasetId": 7328322,
     "sourceId": 11676325,
     "sourceType": "datasetVersion"
    },
    {
     "datasetId": 7332483,
     "sourceId": 11682899,
     "sourceType": "datasetVersion"
    }
   ],
   "dockerImageVersionId": 31012,
   "isGpuEnabled": false,
   "isInternetEnabled": true,
   "language": "python",
   "sourceType": "notebook"
  },
  "kernelspec": {
   "display_name": "Python 3",
   "language": "python",
   "name": "python3"
  },
  "language_info": {
   "codemirror_mode": {
    "name": "ipython",
    "version": 3
   },
   "file_extension": ".py",
   "mimetype": "text/x-python",
   "name": "python",
   "nbconvert_exporter": "python",
   "pygments_lexer": "ipython3",
   "version": "3.11.11"
  },
  "papermill": {
   "default_parameters": {},
   "duration": 16.501652,
   "end_time": "2025-05-08T19:16:42.177714",
   "environment_variables": {},
   "exception": null,
   "input_path": "__notebook__.ipynb",
   "output_path": "__notebook__.ipynb",
   "parameters": {},
   "start_time": "2025-05-08T19:16:25.676062",
   "version": "2.6.0"
  }
 },
 "nbformat": 4,
 "nbformat_minor": 5
}
