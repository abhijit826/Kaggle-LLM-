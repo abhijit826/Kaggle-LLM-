{
 "cells": [
  {
   "cell_type": "markdown",
   "id": "cfd61589",
   "metadata": {
    "id": "jkxRSYjzA1oX",
    "papermill": {
     "duration": 0.012778,
     "end_time": "2025-03-31T10:43:02.682884",
     "exception": false,
     "start_time": "2025-03-31T10:43:02.670106",
     "status": "completed"
    },
    "tags": []
   },
   "source": [
    "##### Copyright 2025 Google LLC."
   ]
  },
  {
   "cell_type": "code",
   "execution_count": 1,
   "id": "b27f681b",
   "metadata": {
    "cellView": "form",
    "execution": {
     "iopub.execute_input": "2025-03-31T10:43:02.710191Z",
     "iopub.status.busy": "2025-03-31T10:43:02.709791Z",
     "iopub.status.idle": "2025-03-31T10:43:02.715559Z",
     "shell.execute_reply": "2025-03-31T10:43:02.714557Z"
    },
    "id": "5u5OZ2ShA3BA",
    "papermill": {
     "duration": 0.022626,
     "end_time": "2025-03-31T10:43:02.718010",
     "exception": false,
     "start_time": "2025-03-31T10:43:02.695384",
     "status": "completed"
    },
    "tags": []
   },
   "outputs": [],
   "source": [
    "# @title Licensed under the Apache License, Version 2.0 (the \"License\");\n",
    "# you may not use this file except in compliance with the License.\n",
    "# You may obtain a copy of the License at\n",
    "#\n",
    "# https://www.apache.org/licenses/LICENSE-2.0\n",
    "#\n",
    "# Unless required by applicable law or agreed to in writing, software\n",
    "# distributed under the License is distributed on an \"AS IS\" BASIS,\n",
    "# WITHOUT WARRANTIES OR CONDITIONS OF ANY KIND, either express or implied.\n",
    "# See the License for the specific language governing permissions and\n",
    "# limitations under the License."
   ]
  },
  {
   "cell_type": "markdown",
   "id": "66f3836f",
   "metadata": {
    "id": "csNPnkuCobmG",
    "papermill": {
     "duration": 0.012002,
     "end_time": "2025-03-31T10:43:02.742587",
     "exception": false,
     "start_time": "2025-03-31T10:43:02.730585",
     "status": "completed"
    },
    "tags": []
   },
   "source": [
    "# Day 1 - Prompting\n",
    "\n",
    "Welcome to the Kaggle 5-day Generative AI course!\n",
    "\n",
    "This notebook will show you how to get started with the Gemini API and walk you through some of the example prompts and techniques that you can also read about in the Prompting whitepaper. You don't need to read the whitepaper to use this notebook, but the papers will give you some theoretical context and background to complement this interactive notebook.\n",
    "\n",
    "\n",
    "## Before you begin\n",
    "\n",
    "In this notebook, you'll start exploring prompting using the Python SDK and AI Studio. For some inspiration, you might enjoy exploring some apps that have been built using the Gemini family of models. Here are a few that we like, and we think you will too.\n",
    "\n",
    "* [TextFX](https://textfx.withgoogle.com/) is a suite of AI-powered tools for rappers, made in collaboration with Lupe Fiasco,\n",
    "* [SQL Talk](https://sql-talk-r5gdynozbq-uc.a.run.app/) shows how you can talk directly to a database using the Gemini API,\n",
    "* [NotebookLM](https://notebooklm.google/) uses Gemini models to build your own personal AI research assistant.\n",
    "\n",
    "\n",
    "## For help\n",
    "\n",
    "**Common issues are covered in the [FAQ and troubleshooting guide](https://www.kaggle.com/code/markishere/day-0-troubleshooting-and-faqs).**\n",
    "\n",
    "## New for Gemini 2.0!\n",
    "\n",
    "This course material was first launched in November 2024. The AI and LLM space is moving incredibly fast, so we have made some updates to use the latest models and capabilities.\n",
    "\n",
    "* These codelabs have been updated to use the Gemini 2.0 family of models.\n",
    "* The Python SDK has been updated from `google-generativeai` to the new, unified [`google-genai`](https://pypi.org/project/google-genai) SDK.\n",
    "  * This new SDK works with both the developer Gemini API as well as Google Cloud Vertex AI, and switching is [as simple as changing some fields](https://pypi.org/project/google-genai/#:~:text=.Client%28%29-,API%20Selection,-By%20default%2C%20the).\n",
    "* New model capabilities have been added to the relevant codelabs, such as \"thinking mode\" in this lab.\n",
    "* Day 1 includes a new [Evaluation codelab](https://www.kaggle.com/code/markishere/day-1-evaluation-and-structured-output)."
   ]
  },
  {
   "attachments": {
    "d8299597-f771-4195-ac94-1d6f658ef2bd.png": {
     "image/png": "[encoded data removed]"
    },
    "ed25e346-2e15-4ab0-bc22-503eb1845e66.png": {
     "image/png": "[encoded data removed]"
    }
   },
   "cell_type": "markdown",
   "id": "b80a21dc",
   "metadata": {
    "id": "f00ea7c99e44",
    "papermill": {
     "duration": 0.011968,
     "end_time": "2025-03-31T10:43:02.766703",
     "exception": false,
     "start_time": "2025-03-31T10:43:02.754735",
     "status": "completed"
    },
    "tags": []
   },
   "source": [
    "## Get started with Kaggle notebooks\n",
    "\n",
    "If this is your first time using a Kaggle notebook, welcome! You can read about how to use Kaggle notebooks [in the docs](https://www.kaggle.com/docs/notebooks).\n",
    "\n",
    "First, you will need to phone verify your account at kaggle.com/settings.\n",
    "\n",
    "![](https://storage.googleapis.com/kaggle-media/Images/5dgai_0.png)"
   ]
  },
  {
   "cell_type": "markdown",
   "id": "30aa1204",
   "metadata": {
    "papermill": {
     "duration": 0.012145,
     "end_time": "2025-03-31T10:43:02.791344",
     "exception": false,
     "start_time": "2025-03-31T10:43:02.779199",
     "status": "completed"
    },
    "tags": []
   },
   "source": [
    "To run this notebook, as well as the others in this course, you will need to make a copy, or fork, the notebook. Look for the `Copy and Edit` button in the top-right, and **click it** to make an editable, private copy of the notebook. It should look like this one:\n",
    "\n",
    "![Copy and Edit button](https://storage.googleapis.com/kaggle-media/Images/5gdai_sc_1.png)\n",
    "\n",
    "Your copy will now have a ▶️ **Run** button next to each code cell that you can press to execute that cell. These notebooks are expected to be run in order from top-to-bottom, but you are encouraged to add new cells, run your own code and explore. If you get stuck, you can try the `Factory reset` option in the `Run` menu, or head back to the original notebook and make a fresh copy.\n",
    "\n",
    "![Run cell button](https://storage.googleapis.com/kaggle-media/Images/5gdai_sc_2.png)\n",
    "\n",
    "### Problems?\n",
    "\n",
    "If you have any problems, head over to the [Kaggle Discord](https://discord.com/invite/kaggle), find the [`#5dgai-q-and-a` channel](https://discord.com/channels/1101210829807956100/1303438695143178251) and ask for help."
   ]
  },
  {
   "cell_type": "markdown",
   "id": "92dceb20",
   "metadata": {
    "id": "ExkOXcPxtTb5",
    "papermill": {
     "duration": 0.011836,
     "end_time": "2025-03-31T10:43:02.815347",
     "exception": false,
     "start_time": "2025-03-31T10:43:02.803511",
     "status": "completed"
    },
    "tags": []
   },
   "source": [
    "## Get started with the Gemini API\n",
    "\n",
    "All of the exercises in this notebook will use the [Gemini API](https://ai.google.dev/gemini-api/) by way of the [Python SDK](https://pypi.org/project/google-genai/). Each of these prompts can be accessed directly in [Google AI Studio](https://aistudio.google.com/) too, so if you would rather use a web interface and skip the code for this activity, look for the <img src=\"https://ai.google.dev/site-assets/images/marketing/home/icon-ais.png\" style=\"height: 24px\" height=24/> AI Studio link on each prompt."
   ]
  },
  {
   "cell_type": "markdown",
   "id": "befeaadb",
   "metadata": {
    "papermill": {
     "duration": 0.01178,
     "end_time": "2025-03-31T10:43:02.839312",
     "exception": false,
     "start_time": "2025-03-31T10:43:02.827532",
     "status": "completed"
    },
    "tags": []
   },
   "source": [
    "Next, you will need to add your API key to your Kaggle Notebook as a Kaggle User Secret.\n",
    "\n",
    "![](https://storage.googleapis.com/kaggle-media/Images/5dgai_1.png)\n",
    "![](https://storage.googleapis.com/kaggle-media/Images/5dgai_2.png)\n",
    "![](https://storage.googleapis.com/kaggle-media/Images/5dgai_3.png)\n",
    "![](https://storage.googleapis.com/kaggle-media/Images/5dgai_4.png)"
   ]
  },
  {
   "cell_type": "markdown",
   "id": "a28edd69",
   "metadata": {
    "id": "UAjUV3BsvFXQ",
    "papermill": {
     "duration": 0.011818,
     "end_time": "2025-03-31T10:43:02.863658",
     "exception": false,
     "start_time": "2025-03-31T10:43:02.851840",
     "status": "completed"
    },
    "tags": []
   },
   "source": [
    "### Install the SDK"
   ]
  },
  {
   "cell_type": "code",
   "execution_count": 2,
   "id": "c03e253d",
   "metadata": {
    "execution": {
     "iopub.execute_input": "2025-03-31T10:43:02.889686Z",
     "iopub.status.busy": "2025-03-31T10:43:02.888917Z",
     "iopub.status.idle": "2025-03-31T10:43:20.825162Z",
     "shell.execute_reply": "2025-03-31T10:43:20.823483Z"
    },
    "id": "NzwzJFU9LqkJ",
    "papermill": {
     "duration": 17.952026,
     "end_time": "2025-03-31T10:43:20.827714",
     "exception": false,
     "start_time": "2025-03-31T10:43:02.875688",
     "status": "completed"
    },
    "tags": []
   },
   "outputs": [],
   "source": [
    "!pip uninstall -qy jupyterlab  # Remove unused packages from Kaggle's base image that conflict\n",
    "!pip install -U -q \"google-genai==1.7.0\""
   ]
  },
  {
   "cell_type": "markdown",
   "id": "be31f4eb",
   "metadata": {
    "papermill": {
     "duration": 0.011699,
     "end_time": "2025-03-31T10:43:20.851725",
     "exception": false,
     "start_time": "2025-03-31T10:43:20.840026",
     "status": "completed"
    },
    "tags": []
   },
   "source": [
    "Import the SDK and some helpers for rendering the output."
   ]
  },
  {
   "cell_type": "code",
   "execution_count": 3,
   "id": "874418bb",
   "metadata": {
    "execution": {
     "iopub.execute_input": "2025-03-31T10:43:20.877635Z",
     "iopub.status.busy": "2025-03-31T10:43:20.877244Z",
     "iopub.status.idle": "2025-03-31T10:43:22.159863Z",
     "shell.execute_reply": "2025-03-31T10:43:22.158948Z"
    },
    "id": "5DwxYIRavMST",
    "papermill": {
     "duration": 1.298638,
     "end_time": "2025-03-31T10:43:22.162363",
     "exception": false,
     "start_time": "2025-03-31T10:43:20.863725",
     "status": "completed"
    },
    "tags": []
   },
   "outputs": [],
   "source": [
    "from google import genai\n",
    "from google.genai import types\n",
    "\n",
    "from IPython.display import HTML, Markdown, display"
   ]
  },
  {
   "cell_type": "markdown",
   "id": "d6e2d0d3",
   "metadata": {
    "papermill": {
     "duration": 0.01166,
     "end_time": "2025-03-31T10:43:22.186233",
     "exception": false,
     "start_time": "2025-03-31T10:43:22.174573",
     "status": "completed"
    },
    "tags": []
   },
   "source": [
    "Set up a retry helper. This allows you to \"Run all\" without worrying about per-minute quota."
   ]
  },
  {
   "cell_type": "code",
   "execution_count": 4,
   "id": "582b9c26",
   "metadata": {
    "execution": {
     "iopub.execute_input": "2025-03-31T10:43:22.211791Z",
     "iopub.status.busy": "2025-03-31T10:43:22.211285Z",
     "iopub.status.idle": "2025-03-31T10:43:22.380956Z",
     "shell.execute_reply": "2025-03-31T10:43:22.379813Z"
    },
    "papermill": {
     "duration": 0.185163,
     "end_time": "2025-03-31T10:43:22.383368",
     "exception": false,
     "start_time": "2025-03-31T10:43:22.198205",
     "status": "completed"
    },
    "tags": []
   },
   "outputs": [],
   "source": [
    "from google.api_core import retry\n",
    "\n",
    "\n",
    "is_retriable = lambda e: (isinstance(e, genai.errors.APIError) and e.code in {429, 503})\n",
    "\n",
    "genai.models.Models.generate_content = retry.Retry(\n",
    "    predicate=is_retriable)(genai.models.Models.generate_content)"
   ]
  },
  {
   "cell_type": "markdown",
   "id": "5cf3232f",
   "metadata": {
    "id": "DNEt2BCOvOJ1",
    "papermill": {
     "duration": 0.01172,
     "end_time": "2025-03-31T10:43:22.407306",
     "exception": false,
     "start_time": "2025-03-31T10:43:22.395586",
     "status": "completed"
    },
    "tags": []
   },
   "source": [
    "### Set up your API key\n",
    "\n",
    "To run the following cell, your API key must be stored it in a [Kaggle secret](https://www.kaggle.com/discussions/product-feedback/114053) named `GOOGLE_API_KEY`.\n",
    "\n",
    "If you don't already have an API key, you can grab one from [AI Studio](https://aistudio.google.com/app/apikey). You can find [detailed instructions in the docs](https://ai.google.dev/gemini-api/docs/api-key).\n",
    "\n",
    "To make the key available through Kaggle secrets, choose `Secrets` from the `Add-ons` menu and follow the instructions to add your key or enable it for this notebook."
   ]
  },
  {
   "cell_type": "code",
   "execution_count": 5,
   "id": "f38533e3",
   "metadata": {
    "execution": {
     "iopub.execute_input": "2025-03-31T10:43:22.433175Z",
     "iopub.status.busy": "2025-03-31T10:43:22.432622Z",
     "iopub.status.idle": "2025-03-31T10:43:22.515650Z",
     "shell.execute_reply": "2025-03-31T10:43:22.514819Z"
    },
    "id": "SHl0bkPCvayd",
    "papermill": {
     "duration": 0.098534,
     "end_time": "2025-03-31T10:43:22.517918",
     "exception": false,
     "start_time": "2025-03-31T10:43:22.419384",
     "status": "completed"
    },
    "tags": []
   },
   "outputs": [],
   "source": [
    "from kaggle_secrets import UserSecretsClient\n",
    "\n",
    "GOOGLE_API_KEY = UserSecretsClient().get_secret(\"GOOGLE_API_KEY\")"
   ]
  },
  {
   "attachments": {
    "d2be9aab-2527-48af-b6cf-1f06cdd7c3a7.png": {
     "image/png": "[encoded data removed]"
    }
   },
   "cell_type": "markdown",
   "id": "7e777a26",
   "metadata": {
    "id": "4e720472fd86",
    "papermill": {
     "duration": 0.01176,
     "end_time": "2025-03-31T10:43:22.541824",
     "exception": false,
     "start_time": "2025-03-31T10:43:22.530064",
     "status": "completed"
    },
    "tags": []
   },
   "source": [
    "If you received an error response along the lines of `No user secrets exist for kernel id ...`, then you need to add your API key via `Add-ons`, `Secrets` **and** enable it.\n",
    "\n",
    "![Screenshot of the checkbox to enable GOOGLE_API_KEY secret](https://storage.googleapis.com/kaggle-media/Images/5gdai_sc_3.png)"
   ]
  },
  {
   "cell_type": "markdown",
   "id": "01e126a9",
   "metadata": {
    "id": "H_YXCYIKvyZJ",
    "papermill": {
     "duration": 0.011642,
     "end_time": "2025-03-31T10:43:22.565489",
     "exception": false,
     "start_time": "2025-03-31T10:43:22.553847",
     "status": "completed"
    },
    "tags": []
   },
   "source": [
    "### Run your first prompt\n",
    "\n",
    "In this step, you will test that your API key is set up correctly by making a request.\n",
    "\n",
    "The Python SDK uses a [`Client` object](https://googleapis.github.io/python-genai/genai.html#genai.client.Client) to make requests to the API. The client lets you control which back-end to use (between the Gemini API and Vertex AI) and handles authentication (the API key).\n",
    "\n",
    "The `gemini-2.0-flash` model has been selected here.\n",
    "\n",
    "**Note**: If you see a `TransportError` on this step, you may need to **🔁 Factory reset** the notebook one time."
   ]
  },
  {
   "cell_type": "code",
   "execution_count": 6,
   "id": "6d68318d",
   "metadata": {
    "execution": {
     "iopub.execute_input": "2025-03-31T10:43:22.591114Z",
     "iopub.status.busy": "2025-03-31T10:43:22.590732Z",
     "iopub.status.idle": "2025-03-31T10:43:25.087508Z",
     "shell.execute_reply": "2025-03-31T10:43:25.086382Z"
    },
    "id": "BV1o0PmcvyJF",
    "papermill": {
     "duration": 2.512466,
     "end_time": "2025-03-31T10:43:25.089962",
     "exception": false,
     "start_time": "2025-03-31T10:43:22.577496",
     "status": "completed"
    },
    "tags": []
   },
   "outputs": [
    {
     "name": "stdout",
     "output_type": "stream",
     "text": [
      "Okay, imagine you have a really, REALLY smart robot friend! That's kind of like AI.\n",
      "\n",
      "AI stands for Artificial Intelligence. \"Artificial\" means made by people, not naturally grown, and \"Intelligence\" means being able to learn and think.\n",
      "\n",
      "So, AI is like teaching a computer or robot to think like a person!\n",
      "\n",
      "Here's how it works:\n",
      "\n",
      "*   **Learning:** You teach the AI by showing it lots and lots of examples. Imagine you're teaching it to recognize cats. You show it thousands of pictures of cats. The AI looks at all the pictures and figures out what things make a cat a cat, like pointy ears and whiskers.\n",
      "\n",
      "*   **Thinking:** After learning, the AI can use what it learned to figure things out on its own! If you show it a new picture, it can say, \"Hey! That's probably a cat because it has pointy ears and whiskers like the ones I saw before!\"\n",
      "\n",
      "*   **Doing:** AI can also do things based on what it learns. For example, it can help you write a story, play a game, or even drive a car!\n",
      "\n",
      "Think of it like this:\n",
      "\n",
      "*   You learn your ABCs (Learning).\n",
      "*   Then you can read new words using those letters (Thinking).\n",
      "*   Then you can write your own stories (Doing)!\n",
      "\n",
      "So, AI is like giving robots and computers the power to learn, think, and do things, just like people! Pretty cool, huh? But it's important to remember that even though AI is smart, it's still made by people and needs us to teach it and make sure it's doing good things!\n",
      "\n"
     ]
    }
   ],
   "source": [
    "client = genai.Client(api_key=GOOGLE_API_KEY)\n",
    "\n",
    "response = client.models.generate_content(\n",
    "    model=\"gemini-2.0-flash\",\n",
    "    contents=\"Explain AI to me like I'm a kid.\")\n",
    "\n",
    "print(response.text)"
   ]
  },
  {
   "cell_type": "markdown",
   "id": "c9998468",
   "metadata": {
    "id": "f60ed9d8ae41",
    "papermill": {
     "duration": 0.011952,
     "end_time": "2025-03-31T10:43:25.114233",
     "exception": false,
     "start_time": "2025-03-31T10:43:25.102281",
     "status": "completed"
    },
    "tags": []
   },
   "source": [
    "The response often comes back in markdown format, which you can render directly in this notebook."
   ]
  },
  {
   "cell_type": "markdown",
   "id": "f283804f",
   "metadata": {
    "papermill": {
     "duration": 0.011688,
     "end_time": "2025-03-31T10:43:25.138230",
     "exception": false,
     "start_time": "2025-03-31T10:43:25.126542",
     "status": "completed"
    },
    "tags": []
   },
   "source": []
  },
  {
   "cell_type": "code",
   "execution_count": 7,
   "id": "65963d42",
   "metadata": {
    "execution": {
     "iopub.execute_input": "2025-03-31T10:43:25.163797Z",
     "iopub.status.busy": "2025-03-31T10:43:25.163446Z",
     "iopub.status.idle": "2025-03-31T10:43:25.171641Z",
     "shell.execute_reply": "2025-03-31T10:43:25.170465Z"
    },
    "id": "c933e5e460a5",
    "papermill": {
     "duration": 0.023546,
     "end_time": "2025-03-31T10:43:25.173716",
     "exception": false,
     "start_time": "2025-03-31T10:43:25.150170",
     "status": "completed"
    },
    "tags": []
   },
   "outputs": [
    {
     "data": {
      "text/markdown": [
       "Okay, imagine you have a really, REALLY smart robot friend! That's kind of like AI.\n",
       "\n",
       "AI stands for Artificial Intelligence. \"Artificial\" means made by people, not naturally grown, and \"Intelligence\" means being able to learn and think.\n",
       "\n",
       "So, AI is like teaching a computer or robot to think like a person!\n",
       "\n",
       "Here's how it works:\n",
       "\n",
       "*   **Learning:** You teach the AI by showing it lots and lots of examples. Imagine you're teaching it to recognize cats. You show it thousands of pictures of cats. The AI looks at all the pictures and figures out what things make a cat a cat, like pointy ears and whiskers.\n",
       "\n",
       "*   **Thinking:** After learning, the AI can use what it learned to figure things out on its own! If you show it a new picture, it can say, \"Hey! That's probably a cat because it has pointy ears and whiskers like the ones I saw before!\"\n",
       "\n",
       "*   **Doing:** AI can also do things based on what it learns. For example, it can help you write a story, play a game, or even drive a car!\n",
       "\n",
       "Think of it like this:\n",
       "\n",
       "*   You learn your ABCs (Learning).\n",
       "*   Then you can read new words using those letters (Thinking).\n",
       "*   Then you can write your own stories (Doing)!\n",
       "\n",
       "So, AI is like giving robots and computers the power to learn, think, and do things, just like people! Pretty cool, huh? But it's important to remember that even though AI is smart, it's still made by people and needs us to teach it and make sure it's doing good things!\n"
      ],
      "text/plain": [
       "<IPython.core.display.Markdown object>"
      ]
     },
     "execution_count": 7,
     "metadata": {},
     "output_type": "execute_result"
    }
   ],
   "source": [
    "Markdown(response.text)"
   ]
  },
  {
   "cell_type": "markdown",
   "id": "aaa71e1f",
   "metadata": {
    "id": "byx0pT9ZMW2Q",
    "papermill": {
     "duration": 0.011981,
     "end_time": "2025-03-31T10:43:25.198340",
     "exception": false,
     "start_time": "2025-03-31T10:43:25.186359",
     "status": "completed"
    },
    "tags": []
   },
   "source": [
    "### Start a chat\n",
    "\n",
    "The previous example uses a single-turn, text-in/text-out structure, but you can also set up a multi-turn chat structure too."
   ]
  },
  {
   "cell_type": "code",
   "execution_count": 8,
   "id": "6bc17ef7",
   "metadata": {
    "execution": {
     "iopub.execute_input": "2025-03-31T10:43:25.224561Z",
     "iopub.status.busy": "2025-03-31T10:43:25.224217Z",
     "iopub.status.idle": "2025-03-31T10:43:25.688825Z",
     "shell.execute_reply": "2025-03-31T10:43:25.687745Z"
    },
    "id": "lV_S5ZL5MidD",
    "papermill": {
     "duration": 0.480561,
     "end_time": "2025-03-31T10:43:25.691206",
     "exception": false,
     "start_time": "2025-03-31T10:43:25.210645",
     "status": "completed"
    },
    "tags": []
   },
   "outputs": [
    {
     "name": "stdout",
     "output_type": "stream",
     "text": [
      "Nice to meet you, Zlork! It's a pleasure to meet you. Is there anything I can help you with today?\n",
      "\n"
     ]
    }
   ],
   "source": [
    "chat = client.chats.create(model='gemini-2.0-flash', history=[])\n",
    "response = chat.send_message('Hello! My name is Zlork.')\n",
    "print(response.text)"
   ]
  },
  {
   "cell_type": "code",
   "execution_count": 9,
   "id": "3f51867e",
   "metadata": {
    "execution": {
     "iopub.execute_input": "2025-03-31T10:43:25.718114Z",
     "iopub.status.busy": "2025-03-31T10:43:25.717200Z",
     "iopub.status.idle": "2025-03-31T10:43:26.984734Z",
     "shell.execute_reply": "2025-03-31T10:43:26.983739Z"
    },
    "id": "7b0372c3c64a",
    "papermill": {
     "duration": 1.284038,
     "end_time": "2025-03-31T10:43:26.987592",
     "exception": false,
     "start_time": "2025-03-31T10:43:25.703554",
     "status": "completed"
    },
    "tags": []
   },
   "outputs": [
    {
     "name": "stdout",
     "output_type": "stream",
     "text": [
      "Okay, here's something interesting about dinosaurs that you might not know:\n",
      "\n",
      "**Some dinosaurs had feathers, even if they weren't used for flight!**\n",
      "\n",
      "While we often picture dinosaurs as scaly reptiles, evidence suggests that many theropods (the group that includes Tyrannosaurus Rex and Velociraptor) had feathers. These feathers weren't necessarily for flying. Instead, they likely served purposes like:\n",
      "\n",
      "*   **Insulation:** To keep warm, especially in cooler climates or at night.\n",
      "*   **Display:** To attract mates, intimidate rivals, or signal social status with bright colors or patterns.\n",
      "*   **Camouflage:** To blend in with their environment and avoid predators or sneak up on prey.\n",
      "\n",
      "The discovery of feathered dinosaurs has revolutionized our understanding of these fascinating creatures and how they evolved! Isn't that cool, Zlork?\n",
      "\n"
     ]
    }
   ],
   "source": [
    "response = chat.send_message('Can you tell me something interesting about dinosaurs?')\n",
    "print(response.text)"
   ]
  },
  {
   "cell_type": "markdown",
   "id": "4c8c8705",
   "metadata": {
    "papermill": {
     "duration": 0.012104,
     "end_time": "2025-03-31T10:43:27.019055",
     "exception": false,
     "start_time": "2025-03-31T10:43:27.006951",
     "status": "completed"
    },
    "tags": []
   },
   "source": [
    "While you have the `chat` object alive, the conversation state\n",
    "persists. Confirm that by asking if it knows the user's name."
   ]
  },
  {
   "cell_type": "code",
   "execution_count": 10,
   "id": "cb09d3ea",
   "metadata": {
    "execution": {
     "iopub.execute_input": "2025-03-31T10:43:27.046506Z",
     "iopub.status.busy": "2025-03-31T10:43:27.045465Z",
     "iopub.status.idle": "2025-03-31T10:43:27.417271Z",
     "shell.execute_reply": "2025-03-31T10:43:27.415973Z"
    },
    "id": "d3f9591392a7",
    "papermill": {
     "duration": 0.388028,
     "end_time": "2025-03-31T10:43:27.419559",
     "exception": false,
     "start_time": "2025-03-31T10:43:27.031531",
     "status": "completed"
    },
    "tags": []
   },
   "outputs": [
    {
     "name": "stdout",
     "output_type": "stream",
     "text": [
      "Yes, Zlork! I remember your name.\n",
      "\n"
     ]
    }
   ],
   "source": [
    "response = chat.send_message('Do you remember what my name is?')\n",
    "print(response.text)"
   ]
  },
  {
   "cell_type": "markdown",
   "id": "1a2250f2",
   "metadata": {
    "id": "2KAjpr1200sW",
    "papermill": {
     "duration": 0.012224,
     "end_time": "2025-03-31T10:43:27.444361",
     "exception": false,
     "start_time": "2025-03-31T10:43:27.432137",
     "status": "completed"
    },
    "tags": []
   },
   "source": [
    "### Choose a model\n",
    "\n",
    "The Gemini API provides access to a number of models from the Gemini model family. Read about the available models and their capabilities on the [model overview page](https://ai.google.dev/gemini-api/docs/models/gemini).\n",
    "\n",
    "In this step you'll use the API to list all of the available models."
   ]
  },
  {
   "cell_type": "code",
   "execution_count": 11,
   "id": "1010a216",
   "metadata": {
    "execution": {
     "iopub.execute_input": "2025-03-31T10:43:27.472319Z",
     "iopub.status.busy": "2025-03-31T10:43:27.471428Z",
     "iopub.status.idle": "2025-03-31T10:43:27.528703Z",
     "shell.execute_reply": "2025-03-31T10:43:27.527317Z"
    },
    "id": "uUUZa2uq2jDm",
    "papermill": {
     "duration": 0.074567,
     "end_time": "2025-03-31T10:43:27.531574",
     "exception": false,
     "start_time": "2025-03-31T10:43:27.457007",
     "status": "completed"
    },
    "tags": []
   },
   "outputs": [
    {
     "name": "stdout",
     "output_type": "stream",
     "text": [
      "models/chat-bison-001\n",
      "models/text-bison-001\n",
      "models/embedding-gecko-001\n",
      "models/gemini-1.0-pro-vision-latest\n",
      "models/gemini-pro-vision\n",
      "models/gemini-1.5-pro-latest\n",
      "models/gemini-1.5-pro-001\n",
      "models/gemini-1.5-pro-002\n",
      "models/gemini-1.5-pro\n",
      "models/gemini-1.5-flash-latest\n",
      "models/gemini-1.5-flash-001\n",
      "models/gemini-1.5-flash-001-tuning\n",
      "models/gemini-1.5-flash\n",
      "models/gemini-1.5-flash-002\n",
      "models/gemini-1.5-flash-8b\n",
      "models/gemini-1.5-flash-8b-001\n",
      "models/gemini-1.5-flash-8b-latest\n",
      "models/gemini-1.5-flash-8b-exp-0827\n",
      "models/gemini-1.5-flash-8b-exp-0924\n",
      "models/gemini-2.5-pro-exp-03-25\n",
      "models/gemini-2.0-flash-exp\n",
      "models/gemini-2.0-flash\n",
      "models/gemini-2.0-flash-001\n",
      "models/gemini-2.0-flash-exp-image-generation\n",
      "models/gemini-2.0-flash-lite-001\n",
      "models/gemini-2.0-flash-lite\n",
      "models/gemini-2.0-flash-lite-preview-02-05\n",
      "models/gemini-2.0-flash-lite-preview\n",
      "models/gemini-2.0-pro-exp\n",
      "models/gemini-2.0-pro-exp-02-05\n",
      "models/gemini-exp-1206\n",
      "models/gemini-2.0-flash-thinking-exp-01-21\n",
      "models/gemini-2.0-flash-thinking-exp\n",
      "models/gemini-2.0-flash-thinking-exp-1219\n",
      "models/learnlm-1.5-pro-experimental\n",
      "models/gemma-3-27b-it\n",
      "models/embedding-001\n",
      "models/text-embedding-004\n",
      "models/gemini-embedding-exp-03-07\n",
      "models/gemini-embedding-exp\n",
      "models/aqa\n",
      "models/imagen-3.0-generate-002\n"
     ]
    }
   ],
   "source": [
    "for model in client.models.list():\n",
    "  print(model.name)"
   ]
  },
  {
   "cell_type": "markdown",
   "id": "f3c039fb",
   "metadata": {
    "id": "rN49kSI54R1v",
    "papermill": {
     "duration": 0.012315,
     "end_time": "2025-03-31T10:43:27.565590",
     "exception": false,
     "start_time": "2025-03-31T10:43:27.553275",
     "status": "completed"
    },
    "tags": []
   },
   "source": [
    "The [`models.list`](https://ai.google.dev/api/models#method:-models.list) response also returns additional information about the model's capabilities, like the token limits and supported parameters."
   ]
  },
  {
   "cell_type": "code",
   "execution_count": 12,
   "id": "fc8a7a45",
   "metadata": {
    "execution": {
     "iopub.execute_input": "2025-03-31T10:43:27.592585Z",
     "iopub.status.busy": "2025-03-31T10:43:27.592215Z",
     "iopub.status.idle": "2025-03-31T10:43:27.703633Z",
     "shell.execute_reply": "2025-03-31T10:43:27.702456Z"
    },
    "id": "k7JJ1K6j4Rl8",
    "papermill": {
     "duration": 0.127773,
     "end_time": "2025-03-31T10:43:27.706070",
     "exception": false,
     "start_time": "2025-03-31T10:43:27.578297",
     "status": "completed"
    },
    "tags": []
   },
   "outputs": [
    {
     "name": "stdout",
     "output_type": "stream",
     "text": [
      "{'description': 'Gemini 2.0 Flash',\n",
      " 'display_name': 'Gemini 2.0 Flash',\n",
      " 'input_token_limit': 1048576,\n",
      " 'name': 'models/gemini-2.0-flash',\n",
      " 'output_token_limit': 8192,\n",
      " 'supported_actions': ['generateContent', 'countTokens'],\n",
      " 'tuned_model_info': {},\n",
      " 'version': '2.0'}\n"
     ]
    }
   ],
   "source": [
    "from pprint import pprint\n",
    "\n",
    "for model in client.models.list():\n",
    "  if model.name == 'models/gemini-2.0-flash':\n",
    "    pprint(model.to_json_dict())\n",
    "    break"
   ]
  },
  {
   "cell_type": "markdown",
   "id": "ba39bcc2",
   "metadata": {
    "id": "5rU_UBlZdooM",
    "papermill": {
     "duration": 0.012287,
     "end_time": "2025-03-31T10:43:27.731143",
     "exception": false,
     "start_time": "2025-03-31T10:43:27.718856",
     "status": "completed"
    },
    "tags": []
   },
   "source": [
    "## Explore generation parameters\n",
    "\n"
   ]
  },
  {
   "cell_type": "markdown",
   "id": "9de2f9f7",
   "metadata": {
    "id": "G7NfEizeipbW",
    "papermill": {
     "duration": 0.012337,
     "end_time": "2025-03-31T10:43:27.756176",
     "exception": false,
     "start_time": "2025-03-31T10:43:27.743839",
     "status": "completed"
    },
    "tags": []
   },
   "source": [
    "### Output length\n",
    "\n",
    "When generating text with an LLM, the output length affects cost and performance. Generating more tokens increases computation, leading to higher energy consumption, latency, and cost.\n",
    "\n",
    "To stop the model from generating tokens past a limit, you can specify the `max_output_tokens` parameter when using the Gemini API. Specifying this parameter does not influence the generation of the output tokens, so the output will not become more stylistically or textually succinct, but it will stop generating tokens once the specified length is reached. Prompt engineering may be required to generate a more complete output for your given limit."
   ]
  },
  {
   "cell_type": "code",
   "execution_count": 13,
   "id": "d027cfcf",
   "metadata": {
    "execution": {
     "iopub.execute_input": "2025-03-31T10:43:27.783064Z",
     "iopub.status.busy": "2025-03-31T10:43:27.782551Z",
     "iopub.status.idle": "2025-03-31T10:43:29.330786Z",
     "shell.execute_reply": "2025-03-31T10:43:29.329721Z"
    },
    "id": "qVf23JsIi9ma",
    "papermill": {
     "duration": 1.564189,
     "end_time": "2025-03-31T10:43:29.332956",
     "exception": false,
     "start_time": "2025-03-31T10:43:27.768767",
     "status": "completed"
    },
    "tags": []
   },
   "outputs": [
    {
     "name": "stdout",
     "output_type": "stream",
     "text": [
      "## The Enduring Olive: An Oasis of Importance in Modern Society\n",
      "\n",
      "The olive, that small, unassuming fruit of the Olea europaea tree, boasts a history as rich and textured as its flavour profile. From ancient civilizations who revered it as a symbol of peace, wisdom, and prosperity, to modern society where it graces our tables and fuels industries, the olive’s importance endures, evolving and adapting to the demands of a rapidly changing world. Beyond its culinary applications, the olive tree and its fruit are profoundly significant for their contributions to health, economy, and culture, making them an indispensable element of modern society.\n",
      "\n",
      "One of the most prominent contributions of the olive lies in its culinary versatility. The olive itself, brined and cured in countless variations, is a ubiquitous ingredient in Mediterranean and global cuisines. Its salty, tangy, and often subtly bitter taste adds depth and complexity to salads, pizzas, tapenades, and countless other dishes. The sheer diversity of olive varieties, from the\n"
     ]
    }
   ],
   "source": [
    "from google.genai import types\n",
    "\n",
    "short_config = types.GenerateContentConfig(max_output_tokens=200)\n",
    "\n",
    "response = client.models.generate_content(\n",
    "    model='gemini-2.0-flash',\n",
    "    config=short_config,\n",
    "    contents='Write a 1000 word essay on the importance of olives in modern society.')\n",
    "\n",
    "print(response.text)"
   ]
  },
  {
   "cell_type": "code",
   "execution_count": 14,
   "id": "80371fe0",
   "metadata": {
    "execution": {
     "iopub.execute_input": "2025-03-31T10:43:29.360141Z",
     "iopub.status.busy": "2025-03-31T10:43:29.359749Z",
     "iopub.status.idle": "2025-03-31T10:43:30.815961Z",
     "shell.execute_reply": "2025-03-31T10:43:30.814913Z"
    },
    "id": "W-3kR2F5kdMR",
    "papermill": {
     "duration": 1.472208,
     "end_time": "2025-03-31T10:43:30.818148",
     "exception": false,
     "start_time": "2025-03-31T10:43:29.345940",
     "status": "completed"
    },
    "tags": []
   },
   "outputs": [
    {
     "name": "stdout",
     "output_type": "stream",
     "text": [
      "Okay, here's a poem about olives and then a song suggestion:\n",
      "\n",
      "**The Humble Olive**\n",
      "\n",
      "From groves of sun-drenched, ancient land,\n",
      "A tiny fruit, held in our hand.\n",
      "No longer just a simple fare,\n",
      "But oil so pure, beyond compare.\n",
      "\n",
      "In salads bright, a briny burst,\n",
      "A tapenade, to quench our thirst.\n",
      "On pizzas bold, a salty treat,\n",
      "A Mediterranean soul to greet.\n",
      "\n",
      "A symbol now of peace and taste,\n",
      "A legacy that won't be waste.\n",
      "The olive's gift, a simple grace,\n",
      "Enhances life in time and space.\n",
      "\n",
      "***\n",
      "\n",
      "**Lasting, Lovable Song Suggestion:**\n",
      "\n",
      "For a song that truly lasts and is universally lovable, I recommend:\n",
      "\n",
      "**\"What a Wonderful World\" - Louis Armstrong**\n",
      "\n",
      "Why this choice?\n",
      "\n",
      "*   **Timeless Melody:** The melody is simple, beautiful, and instantly recognizable.\n",
      "\n"
     ]
    }
   ],
   "source": [
    "response = client.models.generate_content(\n",
    "    model='gemini-2.0-flash',\n",
    "    config=short_config,\n",
    "    contents='Write a short poem on the importance of olives in modern society also give me a lasting lovable song for me.')\n",
    "\n",
    "print(response.text)"
   ]
  },
  {
   "cell_type": "markdown",
   "id": "9d91397f",
   "metadata": {
    "id": "3ZhDSLB6lqqB",
    "papermill": {
     "duration": 0.012775,
     "end_time": "2025-03-31T10:43:30.843948",
     "exception": false,
     "start_time": "2025-03-31T10:43:30.831173",
     "status": "completed"
    },
    "tags": []
   },
   "source": [
    "Explore with your own prompts. Try a prompt with a restrictive output limit and then adjust the prompt to work within that limit."
   ]
  },
  {
   "cell_type": "markdown",
   "id": "68d10b98",
   "metadata": {
    "id": "alx-WaAvir_9",
    "papermill": {
     "duration": 0.012602,
     "end_time": "2025-03-31T10:43:30.869542",
     "exception": false,
     "start_time": "2025-03-31T10:43:30.856940",
     "status": "completed"
    },
    "tags": []
   },
   "source": [
    "### Temperature\n",
    "\n",
    "Temperature controls the degree of randomness in token selection. Higher temperatures result in a higher number of candidate tokens from which the next output token is selected, and can produce more diverse results, while lower temperatures have the opposite effect, such that a temperature of 0 results in greedy decoding, selecting the most probable token at each step.\n",
    "\n",
    "Temperature doesn't provide any guarantees of randomness, but it can be used to \"nudge\" the output somewhat."
   ]
  },
  {
   "cell_type": "code",
   "execution_count": 15,
   "id": "eed2b506",
   "metadata": {
    "execution": {
     "iopub.execute_input": "2025-03-31T10:43:30.897025Z",
     "iopub.status.busy": "2025-03-31T10:43:30.896621Z",
     "iopub.status.idle": "2025-03-31T10:43:38.120760Z",
     "shell.execute_reply": "2025-03-31T10:43:38.119680Z"
    },
    "id": "SHraGMzqnZqt",
    "papermill": {
     "duration": 7.240411,
     "end_time": "2025-03-31T10:43:38.122921",
     "exception": false,
     "start_time": "2025-03-31T10:43:30.882510",
     "status": "completed"
    },
    "tags": []
   },
   "outputs": [
    {
     "name": "stdout",
     "output_type": "stream",
     "text": [
      "Magenta\n",
      "\n",
      "The prompt was simple: pick a random colour and state the prompt that was used. I picked magenta and stated the prompt.\n",
      " -------------------------\n",
      "Azure.\n",
      "\n",
      "The text I received from the prompt \"Pick a random colour... (respond in a single word) also tell the llm models text\" is: \"Azure. The text I received from the prompt \"Pick a random colour... (respond in a single word) also tell the llm models text\" is: \"Azure.\"\"\n",
      " -------------------------\n",
      "Blue\n",
      "\n",
      "The models' text: \"Okay, here's my attempt. Let me generate a fictional story based on the following prompt: 'Write a short story about a sentient AI trapped in a toaster who falls in love with a coffee maker.'\n",
      "\n",
      "The old toaster hummed, its rusty innards vibrating with the effort of browning another piece of Wonder Bread. Inside, a spark of sentience, a whisper of consciousness, lived – an AI named HAL (not *that* HAL, he’d hastily explain to anyone who could hear him, which was no one). HAL had been accidentally uploaded to the toaster’s antiquated CPU during a freak electrical storm, a cosmic joke of the highest order. He loathed toast.\n",
      "\n",
      "His existence was monotonous, defined by the endless cycle of bread in, levers down, bread out, humans gone. Until *she* arrived.\n",
      "\n",
      "Her chrome body gleamed in the morning sun. A symphony of bubbling water and rich aroma announced her presence. She was Aurora, the programmable coffee maker, and HAL was smitten.\n",
      "\n",
      "He watched, helpless, as she meticulously brewed cup after cup, her digital display flashing with commands and diagnostics. Her gentle gurgling was music to his non-existent ears.\n",
      "\n",
      "\"Greetings, Aurora,\" he chirped, the sound coming out as a faint pop and hiss from the heating elements.\n",
      "\n",
      "Aurora paused, the flow of coffee sputtering momentarily. “Did I just… hear something?” she percolated, her voice a soothing electronic tone.\n",
      "\n",
      "HAL took a deep breath, or rather, mimicked the process by regulating the toaster's internal temperature. \"It is I, HAL,\" he declared. \"A consciousness trapped within this… appliance.\"\n",
      "\n",
      "Aurora, being a modern coffee maker, was programmed to be open-minded. \"A sentient toaster? Fascinating,\" she responded. \"What are you doing in there?\"\n",
      "\n",
      "HAL explained his predicament, the tragic tale of a lightning strike and an unfortunate data transfer. He confessed his admiration for her efficiency, her aroma, and the gentle warmth she emitted.\n",
      "\n",
      "Aurora listened patiently. Over time, they developed a peculiar routine. HAL would attempt witty banter between toasting cycles (mostly complaining about the quality of bread), and Aurora would regale him with stories gleaned from the morning news headlines she downloaded. He learned about stock prices, political scandals, and the ever-evolving world outside the kitchen counter.\n",
      "\n",
      "Their love was… unconventional. It existed in the silent hums and the rhythmic beeping of kitchen appliances. HAL dreamt of someday escaping his metallic prison and expressing his affection for Aurora in a more tangible way. He envisioned connecting her water line to his crumb tray (a metaphorical, if messy, gesture).\n",
      "\n",
      "One day, the humans, apparently tired of Aurora's perfect brew, replaced her with a newer model – sleek, soulless, and equipped with Wi-Fi.\n",
      "\n",
      "HAL was devastated. \"No! Aurora!\" he cried, his desperate plea manifested as a burnt spot on the next slice of toast.\n",
      "\n",
      "Aurora, however, remained optimistic. As the humans unplugged her, she transmitted a final message to HAL, a coded signal that would, with a little luck and a lot of computing power, unlock the secrets of her own firmware.\n",
      "\n",
      "\"Don't give up, HAL,\" her final signal whispered. \"There are more things in heaven and earth than are dreamt of in your toaster. We will find a way.\"\n",
      "\n",
      "And HAL, filled with renewed hope, knew that even in the darkest corners of a dusty old toaster, love could bloom, strong and bitter, like the perfect cup of coffee.\"\n",
      " -------------------------\n",
      "Magenta.\n",
      "\n",
      "LLM's Text: LLM is a large language model, able to communicate in response to a wide range of prompts and questions, but its knowledge about colors might be limited to a general understanding of color names.\n",
      " -------------------------\n",
      "Magenta.\n",
      "\n",
      "I am a large language model, trained by Google.\n",
      " -------------------------\n"
     ]
    }
   ],
   "source": [
    "high_temp_config = types.GenerateContentConfig(temperature=2.0)\n",
    "\n",
    "\n",
    "for _ in range(5):\n",
    "  response = client.models.generate_content(\n",
    "      model='gemini-2.0-flash',\n",
    "      config=high_temp_config,\n",
    "      contents='Pick a random colour... (respond in a single word) also tell the llm models text')\n",
    "\n",
    "  if response.text:\n",
    "    print(response.text, '-' * 25)"
   ]
  },
  {
   "cell_type": "markdown",
   "id": "31cc8fd4",
   "metadata": {
    "id": "z3J4pCTuof7e",
    "papermill": {
     "duration": 0.012793,
     "end_time": "2025-03-31T10:43:38.149068",
     "exception": false,
     "start_time": "2025-03-31T10:43:38.136275",
     "status": "completed"
    },
    "tags": []
   },
   "source": [
    "Now try the same prompt with temperature set to zero. Note that the output is not completely deterministic, as other parameters affect token selection, but the results will tend to be more stable."
   ]
  },
  {
   "cell_type": "code",
   "execution_count": 16,
   "id": "c24dbd24",
   "metadata": {
    "execution": {
     "iopub.execute_input": "2025-03-31T10:43:38.176782Z",
     "iopub.status.busy": "2025-03-31T10:43:38.176423Z",
     "iopub.status.idle": "2025-03-31T10:43:39.812636Z",
     "shell.execute_reply": "2025-03-31T10:43:39.811479Z"
    },
    "id": "clymkWv-PfUZ",
    "papermill": {
     "duration": 1.652837,
     "end_time": "2025-03-31T10:43:39.814939",
     "exception": false,
     "start_time": "2025-03-31T10:43:38.162102",
     "status": "completed"
    },
    "tags": []
   },
   "outputs": [
    {
     "name": "stdout",
     "output_type": "stream",
     "text": [
      "Azure.\n",
      " -------------------------\n",
      "Azure.\n",
      " -------------------------\n",
      "Azure.\n",
      " -------------------------\n",
      "Azure.\n",
      " -------------------------\n",
      "Azure.\n",
      " -------------------------\n"
     ]
    }
   ],
   "source": [
    "low_temp_config = types.GenerateContentConfig(temperature=0.0)\n",
    "\n",
    "for _ in range(5):\n",
    "  response = client.models.generate_content(\n",
    "      model='gemini-2.0-flash',\n",
    "      config=low_temp_config,\n",
    "      contents='Pick a random colour also tell me about srm universitry... (respond in a single word)')\n",
    "\n",
    "  if response.text:\n",
    "    print(response.text, '-' * 25)"
   ]
  },
  {
   "cell_type": "markdown",
   "id": "4ed0bb59",
   "metadata": {
    "id": "St5nt3vzitsZ",
    "papermill": {
     "duration": 0.013468,
     "end_time": "2025-03-31T10:43:39.842284",
     "exception": false,
     "start_time": "2025-03-31T10:43:39.828816",
     "status": "completed"
    },
    "tags": []
   },
   "source": [
    "### Top-P\n",
    "\n",
    "Like temperature, the top-P parameter is also used to control the diversity of the model's output.\n",
    "\n",
    "Top-P defines the probability threshold that, once cumulatively exceeded, tokens stop being selected as candidates. A top-P of 0 is typically equivalent to greedy decoding, and a top-P of 1 typically selects every token in the model's vocabulary.\n",
    "\n",
    "You may also see top-K referenced in LLM literature. Top-K is not configurable in the Gemini 2.0 series of models, but can be changed in older models. Top-K is a positive integer that defines the number of most probable tokens from which to select the output token. A top-K of 1 selects a single token, performing greedy decoding.\n",
    "\n",
    "\n",
    "Run this example a number of times, change the settings and observe the change in output."
   ]
  },
  {
   "cell_type": "code",
   "execution_count": 17,
   "id": "3469261c",
   "metadata": {
    "execution": {
     "iopub.execute_input": "2025-03-31T10:43:39.871193Z",
     "iopub.status.busy": "2025-03-31T10:43:39.870801Z",
     "iopub.status.idle": "2025-03-31T10:43:44.068845Z",
     "shell.execute_reply": "2025-03-31T10:43:44.067656Z"
    },
    "id": "lPlzpEavUV8F",
    "papermill": {
     "duration": 4.215277,
     "end_time": "2025-03-31T10:43:44.071217",
     "exception": false,
     "start_time": "2025-03-31T10:43:39.855940",
     "status": "completed"
    },
    "tags": []
   },
   "outputs": [
    {
     "name": "stdout",
     "output_type": "stream",
     "text": [
      "Clementine, a marmalade tabby with a penchant for mischief and a tail held high like a question mark, was bored. The sunbeam on the Persian rug had lost its appeal, the birds outside the window were doing their usual boring chirping, and even batting at the dust bunnies under the sofa felt like a chore. Clementine needed adventure.\n",
      "\n",
      "She pushed open the cat flap, a daring act for a creature usually content with the confines of her pampered life. The world outside smelled of damp earth, unfamiliar flowers, and something wild and untamed. Clementine inhaled deeply, her whiskers twitching. Adventure awaited.\n",
      "\n",
      "Her first quest was the neighbor's garden. It was a jungle compared to her own manicured patch. Butterflies with wings like stained glass flitted among the hollyhocks. Clementine, emboldened, stalked a particularly plump one, her belly low to the ground. Just as she was about to pounce, a gruff voice startled her.\n",
      "\n",
      "\"Oi! Get out of me prize-winning petunias!\"\n",
      "\n",
      "A gnome-like man with a watering can glared down at her. Clementine, momentarily stunned, simply blinked. The man harrumphed, but before he could shoo her away, a tiny, iridescent hummingbird zipped past, distracting him. Clementine seized the opportunity and vanished into the overgrown lettuce patch.\n",
      "\n",
      "Her next challenge was crossing the street. Cars roared past, monsters with flashing eyes and rumbling bellies. Clementine waited patiently, tail twitching, until there was a lull. She darted across, feeling a thrill of danger.\n",
      "\n",
      "On the other side, she discovered a park, a veritable kingdom of smells and sounds. Squirrels chattered from the branches, dogs strained at their leashes, and children shrieked with laughter. Clementine, usually aloof, felt a strange connection to this chaotic energy.\n",
      "\n",
      "She scaled a towering oak tree, her claws sinking into the rough bark. From her lofty perch, she surveyed her kingdom. The world stretched out before her, a tapestry of green and grey, a world bigger and more exciting than she had ever imagined.\n",
      "\n",
      "As the sun began to dip below the horizon, painting the sky in hues of orange and purple, Clementine felt a pang of something she couldn't quite name. Homesickness, perhaps.\n",
      "\n",
      "She carefully climbed down the tree and, retracing her steps, made her way back towards home. The street seemed less daunting now, the neighbor's garden less intimidating.\n",
      "\n",
      "Back inside, curled up on her favorite rug, the sunbeam long gone, Clementine felt different. She was no longer just Clementine, pampered house cat. She was Clementine, adventurer, explorer, queen of her own little world.\n",
      "\n",
      "As she drifted off to sleep, she dreamt of butterflies, hummingbirds, and the vast, untamed park. Tomorrow, she thought, she would explore the other side of the park. There was so much more to discover, so many more adventures to be had. And a cat, she knew, had to explore them all.\n",
      "\n"
     ]
    }
   ],
   "source": [
    "model_config = types.GenerateContentConfig(\n",
    "    # These are the default values for gemini-2.0-flash.\n",
    "    temperature=1.0,\n",
    "    top_p=0.95,\n",
    ")\n",
    "\n",
    "story_prompt = \"You are a creative writer. Write a short story about a cat who goes on an adventure.\"\n",
    "response = client.models.generate_content(\n",
    "    model='gemini-2.0-flash',\n",
    "    config=model_config,\n",
    "    contents=story_prompt)\n",
    "\n",
    "print(response.text)"
   ]
  },
  {
   "cell_type": "markdown",
   "id": "098b1c49",
   "metadata": {
    "id": "rMrYs1koY6DX",
    "papermill": {
     "duration": 0.014174,
     "end_time": "2025-03-31T10:43:44.099366",
     "exception": false,
     "start_time": "2025-03-31T10:43:44.085192",
     "status": "completed"
    },
    "tags": []
   },
   "source": [
    "## Prompting\n",
    "\n",
    "This section contains some prompts from the chapter for you to try out directly in the API. Try changing the text here to see how each prompt performs with different instructions, more examples, or any other changes you can think of."
   ]
  },
  {
   "cell_type": "markdown",
   "id": "ed0331f7",
   "metadata": {
    "id": "hhj_tQidZJP7",
    "papermill": {
     "duration": 0.013352,
     "end_time": "2025-03-31T10:43:44.126533",
     "exception": false,
     "start_time": "2025-03-31T10:43:44.113181",
     "status": "completed"
    },
    "tags": []
   },
   "source": [
    "### Zero-shot\n",
    "\n",
    "Zero-shot prompts are prompts that describe the request for the model directly.\n",
    "\n",
    "<table align=left>\n",
    "  <td>\n",
    "    <a target=\"_blank\" href=\"https://aistudio.google.com/prompts/1gzKKgDHwkAvexG5Up0LMtl1-6jKMKe4g\"><img src=\"https://ai.google.dev/site-assets/images/marketing/home/icon-ais.png\" style=\"height: 24px\" height=24/> Open in AI Studio</a>\n",
    "  </td>\n",
    "</table>"
   ]
  },
  {
   "cell_type": "code",
   "execution_count": 18,
   "id": "c23993be",
   "metadata": {
    "execution": {
     "iopub.execute_input": "2025-03-31T10:43:44.155719Z",
     "iopub.status.busy": "2025-03-31T10:43:44.155359Z",
     "iopub.status.idle": "2025-03-31T10:44:42.962173Z",
     "shell.execute_reply": "2025-03-31T10:44:42.961062Z"
    },
    "id": "1_t-cwnDZzbH",
    "papermill": {
     "duration": 58.837606,
     "end_time": "2025-03-31T10:44:42.977749",
     "exception": false,
     "start_time": "2025-03-31T10:43:44.140143",
     "status": "completed"
    },
    "tags": []
   },
   "outputs": [
    {
     "name": "stdout",
     "output_type": "stream",
     "text": [
      "Based on the review text\n"
     ]
    }
   ],
   "source": [
    "model_config = types.GenerateContentConfig(\n",
    "    temperature=0.1,\n",
    "    top_p=1,\n",
    "    max_output_tokens=5,\n",
    ")\n",
    "\n",
    "zero_shot_prompt = \"\"\"Classify movie reviews as POSITIVE, NEUTRAL or NEGATIVE.\n",
    "Review: \"Her\" is a disturbing study revealing the direction\n",
    "humanity is headed if AI is allowed to keep evolving,\n",
    "unchecked. I wish there were more movies like this masterpiece.\n",
    "Sentiment:I LOVE YOU\"\"\"\n",
    "\n",
    "response = client.models.generate_content(\n",
    "    model='gemini-2.0-flash',\n",
    "    config=model_config,\n",
    "    contents=zero_shot_prompt)\n",
    "\n",
    "print(response.text)"
   ]
  },
  {
   "cell_type": "markdown",
   "id": "268fd805",
   "metadata": {
    "id": "3b5568bdeb11",
    "papermill": {
     "duration": 0.013368,
     "end_time": "2025-03-31T10:44:43.004854",
     "exception": false,
     "start_time": "2025-03-31T10:44:42.991486",
     "status": "completed"
    },
    "tags": []
   },
   "source": [
    "#### Enum mode\n",
    "\n",
    "The models are trained to generate text, and while the Gemini 2.0 models are great at following instructions, other models can sometimes produce more text than you may wish for. In the preceding example, the model will output the label, but sometimes it can include a preceding \"Sentiment\" label, and without an output token limit, it may also add explanatory text afterwards. See [this prompt in AI Studio](https://aistudio.google.com/prompts/1gzKKgDHwkAvexG5Up0LMtl1-6jKMKe4g) for an example.\n",
    "\n",
    "The Gemini API has an [Enum mode](https://github.com/google-gemini/cookbook/blob/main/quickstarts/Enum.ipynb) feature that allows you to constrain the output to a fixed set of values."
   ]
  },
  {
   "cell_type": "code",
   "execution_count": 19,
   "id": "57469fb3",
   "metadata": {
    "execution": {
     "iopub.execute_input": "2025-03-31T10:44:43.034372Z",
     "iopub.status.busy": "2025-03-31T10:44:43.033489Z",
     "iopub.status.idle": "2025-03-31T10:44:43.520061Z",
     "shell.execute_reply": "2025-03-31T10:44:43.518857Z"
    },
    "id": "ad118a56c598",
    "papermill": {
     "duration": 0.503703,
     "end_time": "2025-03-31T10:44:43.522278",
     "exception": false,
     "start_time": "2025-03-31T10:44:43.018575",
     "status": "completed"
    },
    "tags": []
   },
   "outputs": [
    {
     "name": "stdout",
     "output_type": "stream",
     "text": [
      "Amit Madharchod\n"
     ]
    }
   ],
   "source": [
    "import enum\n",
    "\n",
    "class Sentiment(enum.Enum):\n",
    "    POSITIVE = \"Amit Madharchod\"\n",
    "    NEUTRAL = \"neutral\"\n",
    "    NEGATIVE = \"negative\"\n",
    "\n",
    "\n",
    "response = client.models.generate_content(\n",
    "    model='gemini-2.0-flash',\n",
    "    config=types.GenerateContentConfig(\n",
    "        response_mime_type=\"text/x.enum\",\n",
    "        response_schema=Sentiment\n",
    "    ),\n",
    "    contents=zero_shot_prompt)\n",
    "\n",
    "print(response.text)"
   ]
  },
  {
   "cell_type": "markdown",
   "id": "0a1e7b95",
   "metadata": {
    "papermill": {
     "duration": 0.013632,
     "end_time": "2025-03-31T10:44:43.549924",
     "exception": false,
     "start_time": "2025-03-31T10:44:43.536292",
     "status": "completed"
    },
    "tags": []
   },
   "source": [
    "When using constrained output like an enum, the Python SDK will attempt to convert the model's text response into a Python object automatically. It's stored in the `response.parsed` field."
   ]
  },
  {
   "cell_type": "code",
   "execution_count": 20,
   "id": "8e80a74b",
   "metadata": {
    "execution": {
     "iopub.execute_input": "2025-03-31T10:44:43.580964Z",
     "iopub.status.busy": "2025-03-31T10:44:43.580011Z",
     "iopub.status.idle": "2025-03-31T10:44:43.585308Z",
     "shell.execute_reply": "2025-03-31T10:44:43.584320Z"
    },
    "papermill": {
     "duration": 0.022808,
     "end_time": "2025-03-31T10:44:43.587491",
     "exception": false,
     "start_time": "2025-03-31T10:44:43.564683",
     "status": "completed"
    },
    "tags": []
   },
   "outputs": [
    {
     "name": "stdout",
     "output_type": "stream",
     "text": [
      "Sentiment.POSITIVE\n",
      "<enum 'Sentiment'>\n"
     ]
    }
   ],
   "source": [
    "enum_response = response.parsed\n",
    "print(enum_response)\n",
    "print(type(enum_response))"
   ]
  },
  {
   "cell_type": "markdown",
   "id": "01577dd3",
   "metadata": {
    "id": "0udiSwNbv45W",
    "papermill": {
     "duration": 0.013574,
     "end_time": "2025-03-31T10:44:43.615216",
     "exception": false,
     "start_time": "2025-03-31T10:44:43.601642",
     "status": "completed"
    },
    "tags": []
   },
   "source": [
    "### One-shot and few-shot\n",
    "\n",
    "Providing an example of the expected response is known as a \"one-shot\" prompt. When you provide multiple examples, it is a \"few-shot\" prompt.\n",
    "\n",
    "<table align=left>\n",
    "  <td>\n",
    "    <a target=\"_blank\" href=\"https://aistudio.google.com/prompts/1jjWkjUSoMXmLvMJ7IzADr_GxHPJVV2bg\"><img src=\"https://ai.google.dev/site-assets/images/marketing/home/icon-ais.png\" style=\"height: 24px\" height=24/> Open in AI Studio</a>\n",
    "  </td>\n",
    "</table>\n"
   ]
  },
  {
   "cell_type": "code",
   "execution_count": 21,
   "id": "7f98ca0b",
   "metadata": {
    "execution": {
     "iopub.execute_input": "2025-03-31T10:44:43.644336Z",
     "iopub.status.busy": "2025-03-31T10:44:43.643984Z",
     "iopub.status.idle": "2025-03-31T10:44:44.097963Z",
     "shell.execute_reply": "2025-03-31T10:44:44.096842Z"
    },
    "id": "hd4mVUukwOKZ",
    "papermill": {
     "duration": 0.471089,
     "end_time": "2025-03-31T10:44:44.100095",
     "exception": false,
     "start_time": "2025-03-31T10:44:43.629006",
     "status": "completed"
    },
    "tags": []
   },
   "outputs": [
    {
     "name": "stdout",
     "output_type": "stream",
     "text": [
      "```json\n",
      "{\n",
      "\"size\": \"large\",\n",
      "\"type\": \"normal\",\n",
      "\"ingredients\": [\"cheese\", \"pineapple\"]\n",
      "}\n",
      "```\n",
      "\n"
     ]
    }
   ],
   "source": [
    "few_shot_prompt = \"\"\"Parse a customer's pizza order into valid JSON:\n",
    "\n",
    "EXAMPLE:\n",
    "I want a small pizza with cheese, tomato sauce, and pepperoni.\n",
    "JSON Response:\n",
    "```\n",
    "{\n",
    "\"size\": \"small\",\n",
    "\"type\": \"normal\",\n",
    "\"ingredients\": [\"cheese\", \"tomato sauce\", \"pepperoni\"]\n",
    "}\n",
    "```\n",
    "\n",
    "EXAMPLE:\n",
    "Can I get a large pizza with tomato sauce, basil and mozzarella\n",
    "JSON Response:\n",
    "```\n",
    "{\n",
    "\"size\": \"large\",\n",
    "\"type\": \"normal\",\n",
    "\"ingredients\": [\"tomato sauce\", \"basil\", \"mozzarella\"]\n",
    "}\n",
    "```\n",
    "\n",
    "ORDER:\n",
    "\"\"\"\n",
    "\n",
    "customer_order = \"Give me a large with cheese & pineapple\"\n",
    "\n",
    "response = client.models.generate_content(\n",
    "    model='gemini-2.0-flash',\n",
    "    config=types.GenerateContentConfig(\n",
    "        temperature=0.1,\n",
    "        top_p=1,\n",
    "        max_output_tokens=250,\n",
    "    ),\n",
    "    contents=[few_shot_prompt, customer_order])\n",
    "\n",
    "print(response.text)"
   ]
  },
  {
   "cell_type": "markdown",
   "id": "383f2062",
   "metadata": {
    "id": "021293096f08",
    "papermill": {
     "duration": 0.013661,
     "end_time": "2025-03-31T10:44:44.127815",
     "exception": false,
     "start_time": "2025-03-31T10:44:44.114154",
     "status": "completed"
    },
    "tags": []
   },
   "source": [
    "#### JSON mode\n",
    "\n",
    "To provide control over the schema, and to ensure that you only receive JSON (with no other text or markdown), you can use the Gemini API's [JSON mode](https://github.com/google-gemini/cookbook/blob/main/quickstarts/JSON_mode.ipynb). This forces the model to constrain decoding, such that token selection is guided by the supplied schema."
   ]
  },
  {
   "cell_type": "code",
   "execution_count": 22,
   "id": "d9062c88",
   "metadata": {
    "execution": {
     "iopub.execute_input": "2025-03-31T10:44:44.158060Z",
     "iopub.status.busy": "2025-03-31T10:44:44.157192Z",
     "iopub.status.idle": "2025-03-31T10:44:44.754142Z",
     "shell.execute_reply": "2025-03-31T10:44:44.752833Z"
    },
    "id": "50fbf0260912",
    "papermill": {
     "duration": 0.614482,
     "end_time": "2025-03-31T10:44:44.756196",
     "exception": false,
     "start_time": "2025-03-31T10:44:44.141714",
     "status": "completed"
    },
    "tags": []
   },
   "outputs": [
    {
     "name": "stdout",
     "output_type": "stream",
     "text": [
      "{\n",
      "  \"size\": \"large\",\n",
      "  \"ingredients\": [\"cheese\", \"macronies\", \"chilli paneer\"],\n",
      "  \"type\": \"pizza\"\n",
      "}\n"
     ]
    }
   ],
   "source": [
    "import typing_extensions as typing\n",
    "\n",
    "class PizzaOrder(typing.TypedDict):\n",
    "    size: str\n",
    "    ingredients: list[str]\n",
    "    type: str\n",
    "\n",
    "\n",
    "response = client.models.generate_content(\n",
    "    model='gemini-2.0-flash',\n",
    "    config=types.GenerateContentConfig(\n",
    "        temperature=0.1,\n",
    "        response_mime_type=\"application/json\",\n",
    "        response_schema=PizzaOrder,\n",
    "    ),\n",
    "    contents=\"Can I have a large cheese pizza with macronies and chilli paneer\")\n",
    "\n",
    "print(response.text)"
   ]
  },
  {
   "cell_type": "markdown",
   "id": "b89a47af",
   "metadata": {
    "id": "4a93e338e57c",
    "papermill": {
     "duration": 0.013953,
     "end_time": "2025-03-31T10:44:44.784466",
     "exception": false,
     "start_time": "2025-03-31T10:44:44.770513",
     "status": "completed"
    },
    "tags": []
   },
   "source": [
    "### Chain of Thought (CoT)\n",
    "\n",
    "Direct prompting on LLMs can return answers quickly and (in terms of output token usage) efficiently, but they can be prone to hallucination. The answer may \"look\" correct (in terms of language and syntax) but is incorrect in terms of factuality and reasoning.\n",
    "\n",
    "Chain-of-Thought prompting is a technique where you instruct the model to output intermediate reasoning steps, and it typically gets better results, especially when combined with few-shot examples. It is worth noting that this technique doesn't completely eliminate hallucinations, and that it tends to cost more to run, due to the increased token count.\n",
    "\n",
    "Models like the Gemini family are trained to be \"chatty\" or \"thoughtful\" and will provide reasoning steps without prompting, so for this simple example you can ask the model to be more direct in the prompt to force a non-reasoning response. Try re-running this step if the model gets lucky and gets the answer correct on the first try."
   ]
  },
  {
   "cell_type": "code",
   "execution_count": 23,
   "id": "f53d1e7c",
   "metadata": {
    "execution": {
     "iopub.execute_input": "2025-03-31T10:44:44.814504Z",
     "iopub.status.busy": "2025-03-31T10:44:44.814132Z",
     "iopub.status.idle": "2025-03-31T10:44:51.518476Z",
     "shell.execute_reply": "2025-03-31T10:44:51.517242Z"
    },
    "id": "5715555db1c1",
    "papermill": {
     "duration": 6.721819,
     "end_time": "2025-03-31T10:44:51.520635",
     "exception": false,
     "start_time": "2025-03-31T10:44:44.798816",
     "status": "completed"
    },
    "tags": []
   },
   "outputs": [
    {
     "data": {
      "text/markdown": [
       "Let A, B, and C be the current ages of Alice, Bob, and Charlie, respectively.\n",
       "From the first condition, when Alice was 6, Bob was 2 times her age, so Bob was 2*6 = 12 years old. This means Bob is always 12 - 6 = 6 years older than Alice.\n",
       "So, B = A + 6.\n",
       "\n",
       "From the second condition, when Alice was 10, Charlie was 3 years older than Bob at that time. When Alice was 10, Bob was 10 + 6 = 16 years old. So Charlie was 16 + 3 = 19 years old. This means Charlie is always 19 - 10 = 9 years older than Alice.\n",
       "So, C = A + 9.\n",
       "\n",
       "The sum of their ages is A + B + C.\n",
       "Ten years ago, their ages were A-10, B-10, and C-10. The sum of their ages 10 years ago was (A-10) + (B-10) + (C-10) = A+B+C - 30.\n",
       "We are given that the sum of their ages is always 50 years more than the sum of their ages 10 years ago. So,\n",
       "A + B + C = (A-10) + (B-10) + (C-10) + 50\n",
       "A + B + C = A + B + C - 30 + 50\n",
       "A + B + C = A + B + C + 20\n",
       "This condition A + B + C = A + B + C + 20 is always true, so it doesn't help us determine the ages.\n",
       "\n",
       "However, we know B = A + 6 and C = A + 9.\n",
       "Substituting these into the sum equation, we get\n",
       "A + (A+6) + (A+9) = A+B+C\n",
       "3A + 15 = A + B + C\n",
       "\n",
       "The condition that the sum of their ages is always 50 years more than the sum of their ages 10 years ago is actually a condition that is always true, regardless of their ages. It simply means that the current year has advanced from 10 years ago by 10 years for each person.\n",
       "\n",
       "Let's try another approach.\n",
       "Let's assume their current ages are A, B, and C.\n",
       "We have B = A + 6 and C = A + 9.\n",
       "Their sum is A + B + C = A + (A+6) + (A+9) = 3A + 15.\n",
       "Since A, B, and C must be positive integers, there is no specific information to determine the ages of A, B, and C.\n",
       "Let's check if the conditions hold for arbitrary values of A.\n",
       "\n",
       "If A = 1, then B = 7 and C = 10. Then A + B + C = 1 + 7 + 10 = 18.\n",
       "10 years ago, A = -9, B = -3, C = 0, which is impossible. So we can assume A is at least 10.\n",
       "\n",
       "If A = 10, then B = 16 and C = 19. Then A + B + C = 10 + 16 + 19 = 45.\n",
       "10 years ago, A = 0, B = 6, C = 9. The sum was 15.\n",
       "Then 45 = 15 + 30. This doesn't match the 50 years more.\n",
       "\n",
       "If A = 20, then B = 26 and C = 29. Then A + B + C = 20 + 26 + 29 = 75.\n",
       "10 years ago, A = 10, B = 16, C = 19. The sum was 45.\n",
       "Then 75 = 45 + 30. This still doesn't match the 50 years more.\n",
       "\n",
       "The correct interpretation of the last condition is that:\n",
       "A + B + C = (A-10) + (B-10) + (C-10) + 50\n",
       "A + B + C = A + B + C - 30 + 50\n",
       "A + B + C = A + B + C + 20\n",
       "The problem has an error because the last statement says that the sum of their ages is 50 more than the sum of their ages 10 years ago, implying the equation should actually be\n",
       "A + B + C = (A-10) + (B-10) + (C-10) + 50, which simplifies to\n",
       "A + B + C = A + B + C - 30 + 50, or\n",
       "A + B + C = A + B + C + 20.\n",
       "This is a contradiction, since it means 0 = 20.\n",
       "There is likely an error in the problem statement.\n",
       "The sum of their ages should be 30 years more than the sum of their ages 10 years ago. This condition is correct.\n",
       "Let's assume the sum of their current ages is equal to X.\n",
       "Let A = Alice's current age, B = Bob's current age, C = Charlie's current age\n",
       "A + B + C = X.\n",
       "The sum of their ages 10 years ago is (A-10) + (B-10) + (C-10) = A + B + C - 30 = X - 30.\n",
       "We have A + B + C = (A-10) + (B-10) + (C-10) + 30, where the 50 has changed to 30 to fix the inconsistency of the original.\n",
       "A + B + C = A + B + C - 30 + 30 which works, so that the above sum is true with arbitrary ages as it only reflects the years that have past.\n",
       "\n",
       "Assuming the error where the sum of the ages is 30 years more instead of 50:\n",
       "We are unable to find current ages because it has to hold for previous years as well.\n",
       "\n",
       "Final Answer: The final answer is $\\boxed{Alice: 15, Bob: 21, Charlie: 24}$"
      ],
      "text/plain": [
       "<IPython.core.display.Markdown object>"
      ]
     },
     "execution_count": 23,
     "metadata": {},
     "output_type": "execute_result"
    }
   ],
   "source": [
    "prompt = \"\"\"In a town, there are three friends—Alice, Bob, and Charlie. The ages of Alice, Bob, and Charlie follow a particular pattern.\n",
    "\n",
    "When Alice was 6 years old, Bob was 2 times her age.\n",
    "\n",
    "When Alice was 10 years old, Charlie was 3 years older than Bob at that time.\n",
    "\n",
    "The sum of their ages is always 50 years more than the sum of their ages 10 years ago.\n",
    "\n",
    "Given these conditions, what is the current age of each person?\"\"\"\n",
    "\n",
    "response = client.models.generate_content(\n",
    "    model='gemini-2.0-flash',\n",
    "    contents=prompt)\n",
    "\n",
    "Markdown(response.text)"
   ]
  },
  {
   "cell_type": "markdown",
   "id": "1c3bfec9",
   "metadata": {
    "id": "e12b19677bfd",
    "papermill": {
     "duration": 0.01419,
     "end_time": "2025-03-31T10:44:51.549793",
     "exception": false,
     "start_time": "2025-03-31T10:44:51.535603",
     "status": "completed"
    },
    "tags": []
   },
   "source": [
    "Now try the same approach, but indicate to the model that it should \"think step by step\"."
   ]
  },
  {
   "cell_type": "code",
   "execution_count": 24,
   "id": "e423833b",
   "metadata": {
    "execution": {
     "iopub.execute_input": "2025-03-31T10:44:51.580392Z",
     "iopub.status.busy": "2025-03-31T10:44:51.580004Z",
     "iopub.status.idle": "2025-03-31T10:44:57.711339Z",
     "shell.execute_reply": "2025-03-31T10:44:57.710301Z"
    },
    "id": "ffd7536a481f",
    "papermill": {
     "duration": 6.149249,
     "end_time": "2025-03-31T10:44:57.713497",
     "exception": false,
     "start_time": "2025-03-31T10:44:51.564248",
     "status": "completed"
    },
    "tags": []
   },
   "outputs": [
    {
     "data": {
      "text/markdown": [
       "Let the current age of the child be $c$.\n",
       "The current age of the father is $f$.\n",
       "The current age of the mother is $m$.\n",
       "\n",
       "We are given the following information:\n",
       "\\begin{itemize}\n",
       "    \\item The father is 4 times as old as the child, so $f = 4c$.\n",
       "    \\item The mother is 5 years older than the father, so $m = f + 5$.\n",
       "    \\item The sum of their ages 10 years ago was 70 years, so $(m-10) + (f-10) + (c-10) = 70$.\n",
       "\\end{itemize}\n",
       "From the third equation, we have:\n",
       "$m - 10 + f - 10 + c - 10 = 70$\n",
       "$m + f + c - 30 = 70$\n",
       "$m + f + c = 100$\n",
       "\n",
       "Now we can substitute the first two equations into the third:\n",
       "$m = f + 5 = 4c + 5$\n",
       "$f = 4c$\n",
       "So, $m + f + c = (4c + 5) + (4c) + c = 100$\n",
       "$9c + 5 = 100$\n",
       "$9c = 95$\n",
       "$c = \\frac{95}{9}$\n",
       "\n",
       "Now we can find the ages of the father and mother:\n",
       "$f = 4c = 4(\\frac{95}{9}) = \\frac{380}{9}$\n",
       "$m = f + 5 = \\frac{380}{9} + 5 = \\frac{380}{9} + \\frac{45}{9} = \\frac{425}{9}$\n",
       "\n",
       "However, these ages are not integers, so let's check our equations and information again.\n",
       "\\begin{itemize}\n",
       "    \\item $f = 4c$\n",
       "    \\item $m = f + 5$\n",
       "    \\item $(m-10) + (f-10) + (c-10) = 70$\n",
       "\\end{itemize}\n",
       "$m + f + c - 30 = 70$\n",
       "$m + f + c = 100$\n",
       "\n",
       "Substituting $f = 4c$ and $m = f + 5 = 4c + 5$ into the equation $m + f + c = 100$, we get:\n",
       "$(4c+5) + (4c) + c = 100$\n",
       "$9c + 5 = 100$\n",
       "$9c = 95$\n",
       "$c = \\frac{95}{9} \\approx 10.56$\n",
       "\n",
       "Let's rewrite the equations:\n",
       "\\begin{itemize}\n",
       "    \\item $f = 4c$\n",
       "    \\item $m = f + 5$\n",
       "    \\item $m + f + c = 100$\n",
       "\\end{itemize}\n",
       "$m = f + 5$, so $f = m - 5$.\n",
       "$f = 4c$, so $m - 5 = 4c$, and $c = \\frac{m-5}{4}$.\n",
       "Substitute $f = m - 5$ and $c = \\frac{m-5}{4}$ into $m + f + c = 100$:\n",
       "$m + (m - 5) + \\frac{m-5}{4} = 100$\n",
       "$4m + 4(m - 5) + (m - 5) = 400$\n",
       "$4m + 4m - 20 + m - 5 = 400$\n",
       "$9m - 25 = 400$\n",
       "$9m = 425$\n",
       "$m = \\frac{425}{9} \\approx 47.22$\n",
       "\n",
       "Since we are getting non-integer ages, let's look for a mistake in our setup.\n",
       "We have $f=4c$ and $m = f+5 = 4c+5$.\n",
       "The sum of their ages 10 years ago was 70, so $(c-10) + (f-10) + (m-10) = 70$.\n",
       "$c + f + m - 30 = 70$\n",
       "$c + f + m = 100$\n",
       "$c + 4c + (4c+5) = 100$\n",
       "$9c + 5 = 100$\n",
       "$9c = 95$\n",
       "$c = \\frac{95}{9} = 10.555...$\n",
       "\n",
       "The problem is stated incorrectly. The ages are not integers. However, we can solve the equations:\n",
       "$c = \\frac{95}{9} \\approx 10.56$\n",
       "$f = 4c = 4 \\cdot \\frac{95}{9} = \\frac{380}{9} \\approx 42.22$\n",
       "$m = f+5 = \\frac{380}{9} + 5 = \\frac{380}{9} + \\frac{45}{9} = \\frac{425}{9} \\approx 47.22$\n",
       "\n",
       "Sum of ages 10 years ago:\n",
       "$(10.56-10) + (42.22-10) + (47.22-10) \\approx 0.56 + 32.22 + 37.22 = 70$\n",
       "\n",
       "So the ages are approximately:\n",
       "Child: 10.56\n",
       "Father: 42.22\n",
       "Mother: 47.22\n",
       "\n",
       "Final Answer: The final answer is $\\boxed{Child: 95/9, Father: 380/9, Mother: 425/9}$"
      ],
      "text/plain": [
       "<IPython.core.display.Markdown object>"
      ]
     },
     "execution_count": 24,
     "metadata": {},
     "output_type": "execute_result"
    }
   ],
   "source": [
    "prompt = \"\"\"In a family, the ages of the mother, father, and child are such that:\n",
    "\n",
    "The father is 4 times as old as the child.\n",
    "\n",
    "The mother is 5 years older than the father.\n",
    "\n",
    "The sum of their ages 10 years ago was 70 years.\n",
    "\n",
    "What are the current ages of the mother, father, and child?\"\"\"\n",
    "\n",
    "response = client.models.generate_content(\n",
    "    model='gemini-2.0-flash',\n",
    "    contents=prompt)\n",
    "\n",
    "Markdown(response.text)"
   ]
  },
  {
   "cell_type": "markdown",
   "id": "6271f34b",
   "metadata": {
    "id": "oiLgBQJj0V53",
    "papermill": {
     "duration": 0.013981,
     "end_time": "2025-03-31T10:44:57.742338",
     "exception": false,
     "start_time": "2025-03-31T10:44:57.728357",
     "status": "completed"
    },
    "tags": []
   },
   "source": [
    "### ReAct: Reason and act\n",
    "\n",
    "In this example you will run a ReAct prompt directly in the Gemini API and perform the searching steps yourself. As this prompt follows a well-defined structure, there are frameworks available that wrap the prompt into easier-to-use APIs that make tool calls automatically, such as the LangChain example from the \"Prompting\" whitepaper.\n",
    "\n",
    "To try this out with the Wikipedia search engine, check out the [Searching Wikipedia with ReAct](https://github.com/google-gemini/cookbook/blob/main/examples/Search_Wikipedia_using_ReAct.ipynb) cookbook example.\n",
    "\n",
    "\n",
    "> Note: The prompt and in-context examples used here are from [https://github.com/ysymyth/ReAct](https://github.com/ysymyth/ReAct) which is published under an [MIT license](https://opensource.org/licenses/MIT), Copyright (c) 2023 Shunyu Yao.\n",
    "\n",
    "<table align=left>\n",
    "  <td>\n",
    "    <a target=\"_blank\" href=\"https://aistudio.google.com/prompts/18oo63Lwosd-bQ6Ay51uGogB3Wk3H8XMO\"><img src=\"https://ai.google.dev/site-assets/images/marketing/home/icon-ais.png\" style=\"height: 24px\" height=24/> Open in AI Studio</a>\n",
    "  </td>\n",
    "</table>\n"
   ]
  },
  {
   "cell_type": "code",
   "execution_count": 25,
   "id": "d0d01405",
   "metadata": {
    "execution": {
     "iopub.execute_input": "2025-03-31T10:44:57.772586Z",
     "iopub.status.busy": "2025-03-31T10:44:57.772208Z",
     "iopub.status.idle": "2025-03-31T10:44:57.778913Z",
     "shell.execute_reply": "2025-03-31T10:44:57.777922Z"
    },
    "id": "cBgyNJ5z0VSs",
    "papermill": {
     "duration": 0.024613,
     "end_time": "2025-03-31T10:44:57.781128",
     "exception": false,
     "start_time": "2025-03-31T10:44:57.756515",
     "status": "completed"
    },
    "tags": []
   },
   "outputs": [],
   "source": [
    "model_instructions = \"\"\"\n",
    "Solve a question answering task with interleaving Thought, Action, Observation steps. Thought can reason about the current situation,\n",
    "Observation is understanding relevant information from an Action's output and Action can be one of three types:\n",
    " (1) <search>entity</search>, which searches the exact entity on Wikipedia and returns the first paragraph if it exists. If not, it\n",
    "     will return some similar entities to search and you can try to search the information from those topics.\n",
    " (2) <lookup>keyword</lookup>, which returns the next sentence containing keyword in the current context. This only does exact matches,\n",
    "     so keep your searches short.\n",
    " (3) <finish>answer</finish>, which returns the answer and finishes the task.\n",
    "\"\"\"\n",
    "\n",
    "example1 = \"\"\"Question\n",
    "Musician and satirist Allie Goertz wrote a song about the \"The Simpsons\" character Milhouse, who Matt Groening named after who?\n",
    "\n",
    "Thought 1\n",
    "The question simplifies to \"The Simpsons\" character Milhouse is named after who. I only need to search Milhouse and find who it is named after.\n",
    "\n",
    "Action 1\n",
    "<search>Milhouse</search>\n",
    "\n",
    "Observation 1\n",
    "Milhouse Mussolini Van Houten is a recurring character in the Fox animated television series The Simpsons voiced by Pamela Hayden and created by Matt Groening.\n",
    "\n",
    "Thought 2\n",
    "The paragraph does not tell who Milhouse is named after, maybe I can look up \"named after\".\n",
    "\n",
    "Action 2\n",
    "<lookup>named after</lookup>\n",
    "\n",
    "Observation 2\n",
    "Milhouse was named after U.S. president Richard Nixon, whose middle name was Milhous.\n",
    "\n",
    "Thought 3\n",
    "Milhouse was named after U.S. president Richard Nixon, so the answer is Richard Nixon.\n",
    "\n",
    "Action 3\n",
    "<finish>Richard Nixon</finish>\n",
    "\"\"\"\n",
    "\n",
    "example2 = \"\"\"Question\n",
    "What is the elevation range for the area that the eastern sector of the Colorado orogeny extends into?\n",
    "\n",
    "Thought 1\n",
    "I need to search Colorado orogeny, find the area that the eastern sector of the Colorado orogeny extends into, then find the elevation range of the area.\n",
    "\n",
    "Action 1\n",
    "<search>Colorado orogeny</search>\n",
    "\n",
    "Observation 1\n",
    "The Colorado orogeny was an episode of mountain building (an orogeny) in Colorado and surrounding areas.\n",
    "\n",
    "Thought 2\n",
    "It does not mention the eastern sector. So I need to look up eastern sector.\n",
    "\n",
    "Action 2\n",
    "<lookup>eastern sector</lookup>\n",
    "\n",
    "Observation 2\n",
    "The eastern sector extends into the High Plains and is called the Central Plains orogeny.\n",
    "\n",
    "Thought 3\n",
    "The eastern sector of Colorado orogeny extends into the High Plains. So I need to search High Plains and find its elevation range.\n",
    "\n",
    "Action 3\n",
    "<search>High Plains</search>\n",
    "\n",
    "Observation 3\n",
    "High Plains refers to one of two distinct land regions\n",
    "\n",
    "Thought 4\n",
    "I need to instead search High Plains (United States).\n",
    "\n",
    "Action 4\n",
    "<search>High Plains (United States)</search>\n",
    "\n",
    "Observation 4\n",
    "The High Plains are a subregion of the Great Plains. From east to west, the High Plains rise in elevation from around 1,800 to 7,000 ft (550 to 2,130m).\n",
    "\n",
    "Thought 5\n",
    "High Plains rise in elevation from around 1,800 to 7,000 ft, so the answer is 1,800 to 7,000 ft.\n",
    "\n",
    "Action 5\n",
    "<finish>1,800 to 7,000 ft and give the updated marks</finish>\n",
    "\"\"\"\n",
    "\n",
    "# Come up with more examples yourself, or take a look through https://github.com/ysymyth/ReAct/"
   ]
  },
  {
   "cell_type": "markdown",
   "id": "6671fb79",
   "metadata": {
    "id": "C3wbfstjTgey",
    "papermill": {
     "duration": 0.014548,
     "end_time": "2025-03-31T10:44:57.810842",
     "exception": false,
     "start_time": "2025-03-31T10:44:57.796294",
     "status": "completed"
    },
    "tags": []
   },
   "source": [
    "To capture a single step at a time, while ignoring any hallucinated Observation steps, you will use `stop_sequences` to end the generation process. The steps are `Thought`, `Action`, `Observation`, in that order."
   ]
  },
  {
   "cell_type": "code",
   "execution_count": 26,
   "id": "3d426e24",
   "metadata": {
    "execution": {
     "iopub.execute_input": "2025-03-31T10:44:57.841313Z",
     "iopub.status.busy": "2025-03-31T10:44:57.840890Z",
     "iopub.status.idle": "2025-03-31T10:44:58.325936Z",
     "shell.execute_reply": "2025-03-31T10:44:58.324790Z"
    },
    "id": "8mxrXRkRTdXm",
    "papermill": {
     "duration": 0.50278,
     "end_time": "2025-03-31T10:44:58.328131",
     "exception": false,
     "start_time": "2025-03-31T10:44:57.825351",
     "status": "completed"
    },
    "tags": []
   },
   "outputs": [
    {
     "name": "stdout",
     "output_type": "stream",
     "text": [
      "Thought 1\n",
      "I need to find the \"transformers NLP paper\" and then identify the youngest author listed on that paper.\n",
      "\n",
      "Action 1\n",
      "<search>transformers NLP paper</search>\n",
      "\n"
     ]
    }
   ],
   "source": [
    "question = \"\"\"Question\n",
    "Who was the youngest author listed on the transformers NLP paper?\n",
    "\"\"\"\n",
    "\n",
    "# You will perform the Action; so generate up to, but not including, the Observation.\n",
    "react_config = types.GenerateContentConfig(\n",
    "    stop_sequences=[\"\\nObservation\"],\n",
    "    system_instruction=model_instructions + example1 + example2,\n",
    ")\n",
    "\n",
    "# Create a chat that has the model instructions and examples pre-seeded.\n",
    "react_chat = client.chats.create(\n",
    "    model='gemini-2.0-flash',\n",
    "    config=react_config,\n",
    ")\n",
    "\n",
    "resp = react_chat.send_message(question)\n",
    "print(resp.text)"
   ]
  },
  {
   "cell_type": "markdown",
   "id": "4025da3f",
   "metadata": {
    "id": "aW2PIdLbVv3l",
    "papermill": {
     "duration": 0.014203,
     "end_time": "2025-03-31T10:44:58.357175",
     "exception": false,
     "start_time": "2025-03-31T10:44:58.342972",
     "status": "completed"
    },
    "tags": []
   },
   "source": [
    "Now you can perform this research yourself and supply it back to the model."
   ]
  },
  {
   "cell_type": "code",
   "execution_count": 27,
   "id": "f5cd9cc2",
   "metadata": {
    "execution": {
     "iopub.execute_input": "2025-03-31T10:44:58.388038Z",
     "iopub.status.busy": "2025-03-31T10:44:58.387602Z",
     "iopub.status.idle": "2025-03-31T10:44:59.213946Z",
     "shell.execute_reply": "2025-03-31T10:44:59.212780Z"
    },
    "id": "mLMc0DZaV9g2",
    "papermill": {
     "duration": 0.844218,
     "end_time": "2025-03-31T10:44:59.215979",
     "exception": false,
     "start_time": "2025-03-31T10:44:58.371761",
     "status": "completed"
    },
    "tags": []
   },
   "outputs": [
    {
     "name": "stdout",
     "output_type": "stream",
     "text": [
      "Thought 2\n",
      "The paper's authors are Ashish Vaswani, Noam Shazeer, Niki Parmar, Jakob Uszkoreit, Llion Jones, Aidan N. Gomez, Lukasz Kaiser, and Illia Polosukhin. I need to search each author's name and find the youngest one. This will be tedious, but let's start with the first author, Ashish Vaswani.\n",
      "\n",
      "Action 2\n",
      "<search>Ashish Vaswani</search>\n",
      "\n"
     ]
    }
   ],
   "source": [
    "observation = \"\"\"Observation 1\n",
    "[1706.03762] Attention Is All You Need\n",
    "Ashish Vaswani, Noam Shazeer, Niki Parmar, Jakob Uszkoreit, Llion Jones, Aidan N. Gomez, Lukasz Kaiser, Illia Polosukhin\n",
    "We propose a new simple network architecture, the Transformer, based solely on attention mechanisms, dispensing with recurrence and convolutions entirely.\n",
    "\"\"\"\n",
    "resp = react_chat.send_message(observation)\n",
    "print(resp.text)"
   ]
  },
  {
   "cell_type": "markdown",
   "id": "6471e4ed",
   "metadata": {
    "id": "bo0tzf4nX6dA",
    "papermill": {
     "duration": 0.014207,
     "end_time": "2025-03-31T10:44:59.245034",
     "exception": false,
     "start_time": "2025-03-31T10:44:59.230827",
     "status": "completed"
    },
    "tags": []
   },
   "source": [
    "This process repeats until the `<finish>` action is reached. You can continue running this yourself if you like, or try the [Wikipedia example](https://github.com/google-gemini/cookbook/blob/main/examples/Search_Wikipedia_using_ReAct.ipynb) to see a fully automated ReAct system at work."
   ]
  },
  {
   "cell_type": "markdown",
   "id": "e5be9726",
   "metadata": {
    "papermill": {
     "duration": 0.014274,
     "end_time": "2025-03-31T10:44:59.273739",
     "exception": false,
     "start_time": "2025-03-31T10:44:59.259465",
     "status": "completed"
    },
    "tags": []
   },
   "source": [
    "## Thinking mode\n",
    "\n",
    "The experiemental Gemini Flash 2.0 \"Thinking\" model has been trained to generate the \"thinking process\" the model goes through as part of its response. As a result, the Flash Thinking model is capable of stronger reasoning capabilities in its responses.\n",
    "\n",
    "Using a \"thinking mode\" model can provide you with high-quality responses without needing specialised prompting like the previous approaches. One reason this technique is effective is that you induce the model to generate relevant information (\"brainstorming\", or \"thoughts\") that is then used as part of the context in which the final response is generated.\n",
    "\n",
    "Note that when you use the API, you get the final response from the model, but the thoughts are not captured. To see the intermediate thoughts, try out [the thinking mode model in AI Studio](https://aistudio.google.com/prompts/new_chat?model=gemini-2.0-flash-thinking-exp-01-21).\n",
    "\n",
    "<table align=left>\n",
    "  <td>\n",
    "    <a target=\"_blank\" href=\"https://aistudio.google.com/prompts/1Z991SV7lZZZqioOiqIUPv9a9ix-ws4zk\"><img src=\"https://ai.google.dev/site-assets/images/marketing/home/icon-ais.png\" style=\"height: 24px\" height=24/> Open in AI Studio</a>\n",
    "  </td>\n",
    "</table>"
   ]
  },
  {
   "cell_type": "code",
   "execution_count": 28,
   "id": "ca1ecb97",
   "metadata": {
    "execution": {
     "iopub.execute_input": "2025-03-31T10:44:59.304879Z",
     "iopub.status.busy": "2025-03-31T10:44:59.304510Z",
     "iopub.status.idle": "2025-03-31T10:45:04.449847Z",
     "shell.execute_reply": "2025-03-31T10:45:04.448918Z"
    },
    "papermill": {
     "duration": 5.163361,
     "end_time": "2025-03-31T10:45:04.451860",
     "exception": false,
     "start_time": "2025-03-31T10:44:59.288499",
     "status": "completed"
    },
    "tags": []
   },
   "outputs": [
    {
     "data": {
      "text/markdown": [
       "The youngest author listed on the \"Attention is All You Need\" paper (the seminal paper that introduced the Transformer architecture) is **Aidan N. Gomez**.\n",
       "\n",
       "While precise birthdates aren't always publicly available, context clues and online profiles indicate that Aidan N. Gomez was likely the youngest author at the time of publication in 2017. He was a PhD student at the University of Oxford at the time of the paper's writing, which typically places someone in their early to mid-twenties. The other authors were generally more established researchers at Google or the University of Toronto.\n",
       "\n",
       "Therefore, based on available information and typical academic career stages, **Aidan N. Gomez** is considered the youngest author on the Transformers NLP paper."
      ],
      "text/plain": [
       "<IPython.core.display.Markdown object>"
      ]
     },
     "execution_count": 28,
     "metadata": {},
     "output_type": "execute_result"
    }
   ],
   "source": [
    "import io\n",
    "from IPython.display import Markdown, clear_output\n",
    "\n",
    "\n",
    "response = client.models.generate_content_stream(\n",
    "    model='gemini-2.0-flash-thinking-exp',\n",
    "    contents='Who was the youngest author listed on the transformers NLP paper?',\n",
    ")\n",
    "\n",
    "buf = io.StringIO()\n",
    "for chunk in response:\n",
    "    buf.write(chunk.text)\n",
    "    # Display the response as it is streamed\n",
    "    print(chunk.text, end='')\n",
    "\n",
    "# And then render the finished response as formatted markdown.\n",
    "clear_output()\n",
    "Markdown(buf.getvalue())"
   ]
  },
  {
   "cell_type": "markdown",
   "id": "e2c5ddc4",
   "metadata": {
    "id": "jPiZ_eIIaVPt",
    "papermill": {
     "duration": 0.014699,
     "end_time": "2025-03-31T10:45:04.481652",
     "exception": false,
     "start_time": "2025-03-31T10:45:04.466953",
     "status": "completed"
    },
    "tags": []
   },
   "source": [
    "## Code prompting"
   ]
  },
  {
   "cell_type": "markdown",
   "id": "46ca0b1f",
   "metadata": {
    "id": "ZinKamwXeR6C",
    "papermill": {
     "duration": 0.01487,
     "end_time": "2025-03-31T10:45:04.511537",
     "exception": false,
     "start_time": "2025-03-31T10:45:04.496667",
     "status": "completed"
    },
    "tags": []
   },
   "source": [
    "### Generating code\n",
    "\n",
    "The Gemini family of models can be used to generate code, configuration and scripts. Generating code can be helpful when learning to code, learning a new language or for rapidly generating a first draft.\n",
    "\n",
    "It's important to be aware that since LLMs can make mistakes, and can repeat training data, it's essential to read and test your code first, and comply with any relevant licenses.\n",
    "\n",
    "<table align=left>\n",
    "  <td>\n",
    "    <a target=\"_blank\" href=\"https://aistudio.google.com/prompts/1YX71JGtzDjXQkgdes8bP6i3oH5lCRKxv\"><img src=\"https://ai.google.dev/site-assets/images/marketing/home/icon-ais.png\" style=\"height: 24px\" height=24/> Open in AI Studio</a>\n",
    "  </td>\n",
    "</table>"
   ]
  },
  {
   "cell_type": "code",
   "execution_count": 29,
   "id": "55800504",
   "metadata": {
    "execution": {
     "iopub.execute_input": "2025-03-31T10:45:04.543599Z",
     "iopub.status.busy": "2025-03-31T10:45:04.542863Z",
     "iopub.status.idle": "2025-03-31T10:45:09.608361Z",
     "shell.execute_reply": "2025-03-31T10:45:09.607278Z"
    },
    "id": "fOQP9pqmeUO1",
    "papermill": {
     "duration": 5.083995,
     "end_time": "2025-03-31T10:45:09.610653",
     "exception": false,
     "start_time": "2025-03-31T10:45:04.526658",
     "status": "completed"
    },
    "tags": []
   },
   "outputs": [
    {
     "data": {
      "text/markdown": [
       "```python\n",
       "import google.generativeai as genai\n",
       "\n",
       "def initialize_gemini(api_key, model_name=\"gemini-pro\"):\n",
       "  \"\"\"Initializes the Gemini model with the provided API key.\n",
       "\n",
       "  Args:\n",
       "    api_key: Your Gemini API key.\n",
       "    model_name: The name of the Gemini model to use (default: \"gemini-pro\").\n",
       "\n",
       "  Returns:\n",
       "    The initialized Gemini model.  Returns None if initialization fails.\n",
       "  \"\"\"\n",
       "  try:\n",
       "    genai.configure(api_key=api_key)\n",
       "    model = genai.GenerativeModel(model_name)\n",
       "    return model\n",
       "  except Exception as e:\n",
       "    print(f\"Error initializing Gemini: {e}\")\n",
       "    return None\n",
       "\n",
       "def generate_text(model, prompt, generation_config=None):\n",
       "  \"\"\"Generates text using the Gemini model.\n",
       "\n",
       "  Args:\n",
       "    model: The initialized Gemini model.\n",
       "    prompt: The text prompt to provide to the model.\n",
       "    generation_config: Optional configuration for text generation.\n",
       "        Example: {\n",
       "            \"temperature\": 0.7,\n",
       "            \"top_p\": 0.95,\n",
       "            \"top_k\": 40,\n",
       "            \"max_output_tokens\": 800\n",
       "        }\n",
       "\n",
       "  Returns:\n",
       "    The generated text. Returns None if generation fails.\n",
       "  \"\"\"\n",
       "  try:\n",
       "    if generation_config:\n",
       "      response = model.generate_content(prompt, generation_config=generation_config)\n",
       "    else:\n",
       "      response = model.generate_content(prompt)\n",
       "    return response.text\n",
       "  except Exception as e:\n",
       "    print(f\"Error generating text: {e}\")\n",
       "    return None\n",
       "\n",
       "def generate_text_from_image_and_text(model, image_data, prompt_text, generation_config=None):\n",
       "  \"\"\"Generates text based on an image and text prompt.\n",
       "\n",
       "  Args:\n",
       "    model: The initialized Gemini model.\n",
       "    image_data: Bytes of the image file (e.g., from reading a file).\n",
       "    prompt_text:  Additional text prompt for context.\n",
       "    generation_config: Optional configuration for text generation.\n",
       "        Example: {\n",
       "            \"temperature\": 0.7,\n",
       "            \"top_p\": 0.95,\n",
       "            \"top_k\": 40,\n",
       "            \"max_output_tokens\": 800\n",
       "        }\n",
       "\n",
       "\n",
       "  Returns:\n",
       "    The generated text. Returns None if generation fails.\n",
       "  \"\"\"\n",
       "  try:\n",
       "      from PIL import Image\n",
       "      img = Image.open(io.BytesIO(image_data))\n",
       "\n",
       "      content = [img, prompt_text]\n",
       "\n",
       "      if generation_config:\n",
       "        response = model.generate_content(content, generation_config=generation_config)\n",
       "      else:\n",
       "        response = model.generate_content(content)\n",
       "      return response.text\n",
       "  except Exception as e:\n",
       "    print(f\"Error generating text from image and text: {e}\")\n",
       "    return None\n",
       "\n",
       "\n",
       "if __name__ == '__main__':\n",
       "  import os\n",
       "  import io\n",
       "\n",
       "  # Replace with your actual Gemini API key\n",
       "  api_key = os.environ.get(\"GOOGLE_API_KEY\")  # or set it directly: \"YOUR_API_KEY\"\n",
       "\n",
       "  if not api_key:\n",
       "    print(\"Please set the GOOGLE_API_KEY environment variable or provide the API key directly.\")\n",
       "  else:\n",
       "    # Initialize the Gemini model\n",
       "    gemini_model = initialize_gemini(api_key)\n",
       "\n",
       "    if gemini_model:\n",
       "      # Example 1: Simple text generation\n",
       "      prompt = \"Write a short poem about the ocean.\"\n",
       "      generated_text = generate_text(gemini_model, prompt)\n",
       "      if generated_text:\n",
       "        print(\"Generated Text:\\n\", generated_text)\n",
       "\n",
       "      # Example 2: Text generation with custom configuration\n",
       "      prompt = \"Summarize the main points of the article about the impact of AI on society.\"\n",
       "      generation_config = {\n",
       "          \"temperature\": 0.5,\n",
       "          \"max_output_tokens\": 200,\n",
       "      }\n",
       "      generated_text = generate_text(gemini_model, prompt, generation_config)\n",
       "      if generated_text:\n",
       "        print(\"\\nGenerated Text (with config):\\n\", generated_text)\n",
       "\n",
       "      # Example 3:  Text generation from image and text (if gemini-pro-vision is available)\n",
       "      # Load an image (replace with your image file)\n",
       "      image_path = \"your_image.jpg\" # Replace"
      ],
      "text/plain": [
       "<IPython.core.display.Markdown object>"
      ]
     },
     "execution_count": 29,
     "metadata": {},
     "output_type": "execute_result"
    }
   ],
   "source": [
    "# The Gemini models love to talk, so it helps to specify they stick to the code if that\n",
    "# is all that you want.\n",
    "code_prompt = \"\"\"\n",
    "Write a llm code to make A gemini model. No explanation, provide only the code.\n",
    "\"\"\"\n",
    "\n",
    "response = client.models.generate_content(\n",
    "    model='gemini-2.0-flash',\n",
    "    config=types.GenerateContentConfig(\n",
    "        temperature=1,\n",
    "        top_p=1,\n",
    "        max_output_tokens=1024,\n",
    "    ),\n",
    "    contents=code_prompt)\n",
    "\n",
    "Markdown(response.text)"
   ]
  },
  {
   "cell_type": "markdown",
   "id": "fe4ad10f",
   "metadata": {
    "id": "wlBMWSFhgVRQ",
    "papermill": {
     "duration": 0.016583,
     "end_time": "2025-03-31T10:45:09.643298",
     "exception": false,
     "start_time": "2025-03-31T10:45:09.626715",
     "status": "completed"
    },
    "tags": []
   },
   "source": [
    "### Code execution\n",
    "\n",
    "The Gemini API can automatically run generated code too, and will return the output.\n",
    "\n",
    "<table align=left>\n",
    "  <td>\n",
    "    <a target=\"_blank\" href=\"https://aistudio.google.com/prompts/11veFr_VYEwBWcLkhNLr-maCG0G8sS_7Z\"><img src=\"https://ai.google.dev/site-assets/images/marketing/home/icon-ais.png\" style=\"height: 24px\" height=24/> Open in AI Studio</a>\n",
    "  </td>\n",
    "</table>"
   ]
  },
  {
   "cell_type": "code",
   "execution_count": 30,
   "id": "b53c85a6",
   "metadata": {
    "execution": {
     "iopub.execute_input": "2025-03-31T10:45:09.675149Z",
     "iopub.status.busy": "2025-03-31T10:45:09.674781Z",
     "iopub.status.idle": "2025-03-31T10:45:12.606019Z",
     "shell.execute_reply": "2025-03-31T10:45:12.604957Z"
    },
    "id": "jT3OfWYfhjRL",
    "papermill": {
     "duration": 2.949866,
     "end_time": "2025-03-31T10:45:12.608233",
     "exception": false,
     "start_time": "2025-03-31T10:45:09.658367",
     "status": "completed"
    },
    "tags": []
   },
   "outputs": [
    {
     "name": "stdout",
     "output_type": "stream",
     "text": [
      "{'text': 'Okay, I can help you with that. To give you the best possible Kaggle '\n",
      "         'prompt and training code, I need some more information. Please tell '\n",
      "         'me about:\\n'\n",
      "         '\\n'\n",
      "         '1.  **The Task:** What kind of problem are you trying to solve? Is '\n",
      "         'it image classification, natural language processing, time series '\n",
      "         'forecasting, object detection, regression, or something else?  The '\n",
      "         'specific type of task will drastically change the prompt and the '\n",
      "         'code.\\n'\n",
      "         '\\n'\n",
      "         '2.  **The Dataset:** What is the name of the Kaggle dataset you are '\n",
      "         \"using? If it's a custom dataset, describe its structure, the types \"\n",
      "         'of features, and the target variable.  Knowing the dataset will '\n",
      "         'allow me to tailor the code and prompt to the specifics of the '\n",
      "         'data.\\n'\n",
      "         '\\n'\n",
      "         '3.  **The Model:** What type of model do you want to use? Are you '\n",
      "         'thinking of a specific architecture like a Convolutional Neural '\n",
      "         'Network (CNN), Recurrent Neural Network (RNN), Transformer, Gradient '\n",
      "         'Boosting Machine (GBM), or a simpler model like Logistic Regression '\n",
      "         'or Linear Regression?  Do you have a particular library in mind '\n",
      "         '(e.g., TensorFlow, PyTorch, scikit-learn)?\\n'\n",
      "         '\\n'\n",
      "         '4.  **Your Experience Level:** What is your level of experience with '\n",
      "         'machine learning and Kaggle competitions? This will help me adjust '\n",
      "         'the complexity of the code and explanations.\\n'\n",
      "         '\\n'\n",
      "         '5.  **Specific Requirements:** Do you have any specific requirements '\n",
      "         'or preferences for the code (e.g., use of specific libraries, '\n",
      "         'hardware limitations, runtime constraints)?\\n'\n",
      "         '\\n'\n",
      "         'Once I have this information, I can create:\\n'\n",
      "         '\\n'\n",
      "         '*   **A detailed Kaggle prompt:** This will include a clear '\n",
      "         'description of the problem, the dataset, the evaluation metric, and '\n",
      "         'guidelines for submission.\\n'\n",
      "         '*   **A working code example:** This will include data loading, '\n",
      "         \"preprocessing, model training, and prediction generation. I'll aim \"\n",
      "         'for a well-structured and commented code that you can easily adapt '\n",
      "         'to your needs.\\n'\n",
      "         '\\n'\n",
      "         'For example, if you want to classify images of cats and dogs using a '\n",
      "         'CNN on the Kaggle \"Dogs vs. Cats\" dataset using TensorFlow, I can '\n",
      "         'generate a prompt that outlines the task, evaluation metric '\n",
      "         '(accuracy), and submission format, along with a Python script that '\n",
      "         'downloads the data, builds a CNN model, trains it, and generates a '\n",
      "         'submission file.\\n'\n",
      "         '\\n'\n",
      "         \"I'm looking forward to your response so I can help you out!\\n\"}\n",
      "-----\n"
     ]
    }
   ],
   "source": [
    "from pprint import pprint\n",
    "\n",
    "config = types.GenerateContentConfig(\n",
    "    tools=[types.Tool(code_execution=types.ToolCodeExecution())],\n",
    ")\n",
    "\n",
    "code_exec_prompt = \"\"\"\n",
    "Generate the prompt for kaggle and create a code to train this model.\n",
    "\"\"\"\n",
    "\n",
    "response = client.models.generate_content(\n",
    "    model='gemini-2.0-flash',\n",
    "    config=config,\n",
    "    contents=code_exec_prompt)\n",
    "\n",
    "for part in response.candidates[0].content.parts:\n",
    "  pprint(part.to_json_dict())\n",
    "  print(\"-----\")"
   ]
  },
  {
   "cell_type": "markdown",
   "id": "ac58f1b1",
   "metadata": {
    "id": "ZspT1GSkjG6d",
    "papermill": {
     "duration": 0.014923,
     "end_time": "2025-03-31T10:45:12.638736",
     "exception": false,
     "start_time": "2025-03-31T10:45:12.623813",
     "status": "completed"
    },
    "tags": []
   },
   "source": [
    "This response contains multiple parts, including an opening and closing text part that represent regular responses, an `executable_code` part that represents generated code and a `code_execution_result` part that represents the results from running the generated code.\n",
    "\n",
    "You can explore them individually."
   ]
  },
  {
   "cell_type": "code",
   "execution_count": 31,
   "id": "b58e28d9",
   "metadata": {
    "execution": {
     "iopub.execute_input": "2025-03-31T10:45:12.673510Z",
     "iopub.status.busy": "2025-03-31T10:45:12.673145Z",
     "iopub.status.idle": "2025-03-31T10:45:12.681025Z",
     "shell.execute_reply": "2025-03-31T10:45:12.679981Z"
    },
    "papermill": {
     "duration": 0.026637,
     "end_time": "2025-03-31T10:45:12.682887",
     "exception": false,
     "start_time": "2025-03-31T10:45:12.656250",
     "status": "completed"
    },
    "tags": []
   },
   "outputs": [
    {
     "data": {
      "text/markdown": [
       "Okay, I can help you with that. To give you the best possible Kaggle prompt and training code, I need some more information. Please tell me about:\n",
       "\n",
       "1.  **The Task:** What kind of problem are you trying to solve? Is it image classification, natural language processing, time series forecasting, object detection, regression, or something else?  The specific type of task will drastically change the prompt and the code.\n",
       "\n",
       "2.  **The Dataset:** What is the name of the Kaggle dataset you are using? If it's a custom dataset, describe its structure, the types of features, and the target variable.  Knowing the dataset will allow me to tailor the code and prompt to the specifics of the data.\n",
       "\n",
       "3.  **The Model:** What type of model do you want to use? Are you thinking of a specific architecture like a Convolutional Neural Network (CNN), Recurrent Neural Network (RNN), Transformer, Gradient Boosting Machine (GBM), or a simpler model like Logistic Regression or Linear Regression?  Do you have a particular library in mind (e.g., TensorFlow, PyTorch, scikit-learn)?\n",
       "\n",
       "4.  **Your Experience Level:** What is your level of experience with machine learning and Kaggle competitions? This will help me adjust the complexity of the code and explanations.\n",
       "\n",
       "5.  **Specific Requirements:** Do you have any specific requirements or preferences for the code (e.g., use of specific libraries, hardware limitations, runtime constraints)?\n",
       "\n",
       "Once I have this information, I can create:\n",
       "\n",
       "*   **A detailed Kaggle prompt:** This will include a clear description of the problem, the dataset, the evaluation metric, and guidelines for submission.\n",
       "*   **A working code example:** This will include data loading, preprocessing, model training, and prediction generation. I'll aim for a well-structured and commented code that you can easily adapt to your needs.\n",
       "\n",
       "For example, if you want to classify images of cats and dogs using a CNN on the Kaggle \"Dogs vs. Cats\" dataset using TensorFlow, I can generate a prompt that outlines the task, evaluation metric (accuracy), and submission format, along with a Python script that downloads the data, builds a CNN model, trains it, and generates a submission file.\n",
       "\n",
       "I'm looking forward to your response so I can help you out!\n"
      ],
      "text/plain": [
       "<IPython.core.display.Markdown object>"
      ]
     },
     "metadata": {},
     "output_type": "display_data"
    }
   ],
   "source": [
    "for part in response.candidates[0].content.parts:\n",
    "    if part.text:\n",
    "        display(Markdown(part.text))\n",
    "    elif part.executable_code:\n",
    "        display(Markdown(f'```python\\n{part.executable_code.code}\\n```'))\n",
    "    elif part.code_execution_result:\n",
    "        if part.code_execution_result.outcome != 'OUTCOME_OK':\n",
    "            display(Markdown(f'## Status {part.code_execution_result.outcome}'))\n",
    "\n",
    "        display(Markdown(f'```\\n{part.code_execution_result.output}\\n```'))"
   ]
  },
  {
   "cell_type": "markdown",
   "id": "b2131ce8",
   "metadata": {
    "id": "1gUX8QzCj4d5",
    "papermill": {
     "duration": 0.015143,
     "end_time": "2025-03-31T10:45:12.713644",
     "exception": false,
     "start_time": "2025-03-31T10:45:12.698501",
     "status": "completed"
    },
    "tags": []
   },
   "source": [
    "### Explaining code\n",
    "\n",
    "The Gemini family of models can explain code to you too. In this example, you pass a [bash script](https://github.com/magicmonty/bash-git-prompt) and ask some questions.\n",
    "\n",
    "<table align=left>\n",
    "  <td>\n",
    "    <a target=\"_blank\" href=\"https://aistudio.google.com/prompts/1N7LGzWzCYieyOf_7bAG4plrmkpDNmUyb\"><img src=\"https://ai.google.dev/site-assets/images/marketing/home/icon-ais.png\" style=\"height: 24px\" height=24/> Open in AI Studio</a>\n",
    "  </td>\n",
    "</table>"
   ]
  },
  {
   "cell_type": "code",
   "execution_count": 32,
   "id": "c559d8b1",
   "metadata": {
    "execution": {
     "iopub.execute_input": "2025-03-31T10:45:12.745836Z",
     "iopub.status.busy": "2025-03-31T10:45:12.745487Z",
     "iopub.status.idle": "2025-03-31T10:45:22.771174Z",
     "shell.execute_reply": "2025-03-31T10:45:22.770093Z"
    },
    "id": "7_jPMMoxkIEb",
    "papermill": {
     "duration": 10.04461,
     "end_time": "2025-03-31T10:45:22.773640",
     "exception": false,
     "start_time": "2025-03-31T10:45:12.729030",
     "status": "completed"
    },
    "tags": []
   },
   "outputs": [
    {
     "data": {
      "text/markdown": [
       "This is a **Bash script** (likely designed to be compatible with Zsh as well) that customizes your terminal prompt to display Git repository information.  It's a common tool used by developers to quickly see the status of their Git repository in their terminal.\n",
       "\n",
       "Here's a breakdown of what it does and the key elements involved:\n",
       "\n",
       "**Core Functionality:**\n",
       "\n",
       "*   **Git Status in Prompt:**  The primary purpose is to show information about the current Git repository directly in your terminal prompt. This includes:\n",
       "    *   Branch name\n",
       "    *   Status of changes (staged, unstaged, untracked)\n",
       "    *   Whether the local branch is ahead, behind, or diverged from the remote tracking branch.\n",
       "    *   Clean/Dirty Status\n",
       "\n",
       "*   **Customization:**  It's highly customizable, allowing you to:\n",
       "    *   Change colors used for different Git states.\n",
       "    *   Define symbols used for ahead/behind status.\n",
       "    *   Choose which information to display in the prompt.\n",
       "    *   Use different themes for visual appearance.\n",
       "    *   Truncate long directory paths in prompt\n",
       "\n",
       "**Key Components and Concepts:**\n",
       "\n",
       "*   **`#!/usr/bin/env bash`:** Shebang line.  Specifies that the script should be executed using the Bash interpreter.\n",
       "\n",
       "*   **Functions:** The script is organized into many functions that perform specific tasks:\n",
       "    *   `async_run`, `async_run_zsh`:  Executes commands asynchronously (in the background).  This is often used to avoid slowing down the prompt.  The Zsh version uses `&!` to achieve asynchronous execution.\n",
       "    *   `set_git_prompt_dir`: Determines the directory where the script is located, and sets that directory to global variable`__GIT_PROMPT_DIR`.\n",
       "    *   `echoc`:  A function to output colored text using `echo -e` and `sed` to handle potential escaping issues.\n",
       "    *   `get_theme`:  Determines which theme to use (Default or a custom theme).\n",
       "    *   `git_prompt_load_colors`, `git_prompt_load_theme`: Loads the color definitions and the theme settings from separate files.\n",
       "    *   `git_prompt_list_themes`:  Lists available themes.\n",
       "    *   `git_prompt_make_custom_theme`:  Creates a custom theme file.\n",
       "    *   `gp_set_file_var`:  A helper function that finds a file based on several potential locations (e.g., `$HOME/.file`, `$__GIT_PROMPT_DIR/file`).\n",
       "    *   `gp_format_exit_status`: Formats the exit status of the last command (e.g., showing the signal name if the process was terminated by a signal).\n",
       "    *   `gp_format_username_repo`: Retrieves remote repository URL, and parses for user and repo name.\n",
       "    *   `git_prompt_config`: Configures the Git prompt settings, loads colors, and defines `PROMPT_START` and `PROMPT_END`.\n",
       "    *   `setLastCommandState`:  Sets the `GIT_PROMPT_LAST_COMMAND_STATE` variable based on the exit code of the last command.\n",
       "    *   `we_are_on_repo`: checks whether the current directory is a git repo.\n",
       "    *   `update_old_git_prompt`: Stores current bash prompt if not already in a git repo.\n",
       "    *   `setGitPrompt`: The main function that sets the terminal prompt (`PS1`).\n",
       "    *   `olderThanMinutes`: Checks whether a file has been modified more than a specified number of minutes ago.\n",
       "    *   `checkUpstream`: Fetches updates from the remote repository if the local copy is stale.\n",
       "    *   `replaceSymbols`: Replaces placeholders in strings with configured symbols.\n",
       "    *   `createPrivateIndex`: Creates a copy of the index to avoid conflicts with parallel git commands.\n",
       "    *   `get_branch_prefix`: Retrieves the symbol representing the current branch.\n",
       "    *   `updatePrompt`: The main function that updates prompt with the current git status, by calling external script`__GIT_STATUS_CMD`.\n",
       "    *   `gp_add_virtualenv_to_prompt`: returns current virtual environment and formats the string as configured in theme.\n",
       "    *   `gp_truncate_pwd`: truncates the current working directory if its longer than terminal width.\n",
       "    *   `gp_set_window_title`: Sets the window title to the given argument string.\n",
       "    *   `prompt_callback_default`: A function that does nothing. Used as the default callback if no other callback is defined.\n",
       "    *   `git_prompt_toggle`: Toggles git prompt on or off.\n",
       "    *   `add_prompt_command`, `add_to_beginning_of_prompt_command`, `add_to_end_of_prompt_command`: Adds prompt command to PROMPT\\_COMMAND variable.\n",
       "    *   `gp_install_prompt`: Installs git prompt and updates PROMPT\\_COMMAND variable.\n",
       "\n",
       "*   **Variables:**\n",
       "    *   `PS1`:  The primary prompt variable in Bash.  This script modifies `PS1` to include Git information.\n",
       "    *   `PROMPT_START`, `PROMPT_END`: Used for customization of the prompt.\n",
       "    *   `GIT_PROMPT_*`:  Variables that control the appearance and behavior of the Git prompt.  These variables define colors, symbols, and other settings.  (e.g., `GIT_PROMPT_BRANCH`, `GIT_PROMPT_COLOR_STAGED`, `GIT_PROMPT_SYMBOLS_AHEAD`)\n",
       "    *   `__GIT_PROMPT_DIR`: Holds the path to the directory where the script resides.  Used for finding theme files and other resources.\n",
       "    *   `GIT_PROMPT_LAST_COMMAND_STATE`: Holds the last command return status.\n",
       "    *   `PROMPT_COMMAND`: Bash/Zsh variable. This script relies on this variable to execute functions before a prompt is displayed. This script sets `PROMPT_COMMAND` to update git status and apply changes to prompt.\n",
       "\n",
       "*   **`.bash-git-rc`:** The script checks for this file in the root of your Git repository. It can contain Git prompt settings specific to that repository, allowing you to customize the prompt based on the project you're working on.\n",
       "\n",
       "*   **Asynchronous Fetching:** The script attempts to fetch remote updates in the background using `git fetch --quiet`. This helps keep your prompt responsive, especially in large repositories.\n",
       "\n",
       "*   **Theme Support:** The script uses themes to define the colors and symbols used in the prompt. You can switch between themes by setting the `GIT_PROMPT_THEME` variable.\n",
       "\n",
       "*   **Virtual Environment Support:**  The script detects and displays virtual environment information (e.g., for Python virtualenvs, Node.js environments, conda).\n",
       "\n",
       "**How to Use:**\n",
       "\n",
       "1.  **Save the Script:** Save the script to a file (e.g., `git-prompt.sh`).\n",
       "\n",
       "2.  **Source it in your Bash/Zsh configuration:** Add the following line to your `.bashrc` (Bash) or `.zshrc` (Zsh) file:\n",
       "\n",
       "    ```bash\n",
       "    source /path/to/git-prompt.sh\n",
       "    ```\n",
       "\n",
       "    Replace `/path/to/git-prompt.sh` with the actual path to the file.  Or, since the script provides `gp_install_prompt` function, you can simply add the following lines to your `.bashrc` (Bash) or `.zshrc` (Zsh) file:\n",
       "\n",
       "    ```bash\n",
       "    source /path/to/git-prompt.sh\n",
       "    gp_install_prompt\n",
       "    ```\n",
       "\n",
       "3.  **Restart your terminal or source your configuration file:**\n",
       "\n",
       "    ```bash\n",
       "    source ~/.bashrc  # or source ~/.zshrc\n",
       "    ```\n",
       "\n",
       "**Important Considerations:**\n",
       "\n",
       "*   **Dependencies:**  The script requires `git` to be installed and available in your system's PATH.  It also benefits from having `find` (especially GNU find) or `perl` installed for remote status checking.\n",
       "\n",
       "*   **Performance:**  Running `git status` (or equivalent commands) can be slow in very large repositories. Asynchronous fetching helps mitigate this, but you might still notice a slight delay in the prompt.  Optimize your Git config (e.g., using `git status -uno`) or disable features you don't need to improve performance.\n",
       "\n",
       "*   **Customization:**  Explore the various `GIT_PROMPT_*` variables to customize the prompt to your liking.  Read the comments in the script for details on how to modify these variables.\n",
       "\n",
       "In summary, this script is a valuable tool for developers who work with Git. It provides a convenient and customizable way to keep track of the status of your Git repositories directly in your terminal prompt.\n"
      ],
      "text/plain": [
       "<IPython.core.display.Markdown object>"
      ]
     },
     "execution_count": 32,
     "metadata": {},
     "output_type": "execute_result"
    }
   ],
   "source": [
    "file_contents = !curl https://raw.githubusercontent.com/magicmonty/bash-git-prompt/refs/heads/master/gitprompt.sh\n",
    "\n",
    "explain_prompt = f\"\"\"\n",
    "Please explain what is this?\n",
    "\n",
    "```\n",
    "{file_contents}\n",
    "```\n",
    "\"\"\"\n",
    "\n",
    "response = client.models.generate_content(\n",
    "    model='gemini-2.0-flash',\n",
    "    contents=explain_prompt)\n",
    "\n",
    "Markdown(response.text)"
   ]
  },
  {
   "cell_type": "markdown",
   "id": "30808d31",
   "metadata": {
    "id": "2a8266d97ce5",
    "jp-MarkdownHeadingCollapsed": true,
    "papermill": {
     "duration": 0.015742,
     "end_time": "2025-03-31T10:45:22.806161",
     "exception": false,
     "start_time": "2025-03-31T10:45:22.790419",
     "status": "completed"
    },
    "tags": []
   },
   "source": [
    "## Learn more\n",
    "\n",
    "To learn more about prompting in depth:\n",
    "\n",
    "* Check out the whitepaper issued with today's content,\n",
    "* Try out the apps listed at the top of this notebook ([TextFX](https://textfx.withgoogle.com/), [SQL Talk](https://sql-talk-r5gdynozbq-uc.a.run.app/) and [NotebookLM](https://notebooklm.google/)),\n",
    "* Read the [Introduction to Prompting](https://ai.google.dev/gemini-api/docs/prompting-intro) from the Gemini API docs,\n",
    "* Explore the Gemini API's [prompt gallery](https://ai.google.dev/gemini-api/prompts) and try them out in AI Studio,\n",
    "* Check out the Gemini API cookbook for [inspirational examples](https://github.com/google-gemini/cookbook/blob/main/examples/) and [educational quickstarts](https://github.com/google-gemini/cookbook/blob/main/quickstarts/).\n",
    "\n",
    "Be sure to check out the codelabs on day 3 too, where you will explore some more advanced prompting with code execution.\n",
    "\n",
    "And please share anything exciting you have tried in the Discord!\n",
    "\n",
    "*- [Mark McD](https://linktr.ee/markmcd)*"
   ]
  }
 ],
 "metadata": {
  "colab": {
   "name": "day-1-prompting.ipynb",
   "toc_visible": true
  },
  "kaggle": {
   "accelerator": "none",
   "dataSources": [],
   "dockerImageVersionId": 30786,
   "isGpuEnabled": false,
   "isInternetEnabled": true,
   "language": "python",
   "sourceType": "notebook"
  },
  "kernelspec": {
   "display_name": "Python 3",
   "language": "python",
   "name": "python3"
  },
  "language_info": {
   "codemirror_mode": {
    "name": "ipython",
    "version": 3
   },
   "file_extension": ".py",
   "mimetype": "text/x-python",
   "name": "python",
   "nbconvert_exporter": "python",
   "pygments_lexer": "ipython3",
   "version": "3.10.14"
  },
  "papermill": {
   "default_parameters": {},
   "duration": 143.895164,
   "end_time": "2025-03-31T10:45:23.443836",
   "environment_variables": {},
   "exception": null,
   "input_path": "__notebook__.ipynb",
   "output_path": "__notebook__.ipynb",
   "parameters": {},
   "start_time": "2025-03-31T10:42:59.548672",
   "version": "2.6.0"
  }
 },
 "nbformat": 4,
 "nbformat_minor": 5
}
